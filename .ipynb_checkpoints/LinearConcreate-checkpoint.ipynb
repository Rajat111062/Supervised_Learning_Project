{
 "cells": [
  {
   "cell_type": "code",
   "execution_count": 1,
   "metadata": {},
   "outputs": [],
   "source": [
    "import pandas as pd \n",
    "import numpy as np\n",
    "import matplotlib.pyplot as plt\n",
    "import seaborn as sns\n",
    "import warnings\n",
    "warnings.filterwarnings('ignore')"
   ]
  },
  {
   "cell_type": "markdown",
   "metadata": {},
   "source": [
    "### 1. Read the dataset into the notebook"
   ]
  },
  {
   "cell_type": "code",
   "execution_count": 76,
   "metadata": {},
   "outputs": [
    {
     "data": {
      "text/html": [
       "<div>\n",
       "<style scoped>\n",
       "    .dataframe tbody tr th:only-of-type {\n",
       "        vertical-align: middle;\n",
       "    }\n",
       "\n",
       "    .dataframe tbody tr th {\n",
       "        vertical-align: top;\n",
       "    }\n",
       "\n",
       "    .dataframe thead th {\n",
       "        text-align: right;\n",
       "    }\n",
       "</style>\n",
       "<table border=\"1\" class=\"dataframe\">\n",
       "  <thead>\n",
       "    <tr style=\"text-align: right;\">\n",
       "      <th></th>\n",
       "      <th>Cement (component 1)(kg in a m^3 mixture)</th>\n",
       "      <th>Blast Furnace Slag (component 2)(kg in a m^3 mixture)</th>\n",
       "      <th>Fly Ash (component 3)(kg in a m^3 mixture)</th>\n",
       "      <th>Water  (component 4)(kg in a m^3 mixture)</th>\n",
       "      <th>Superplasticizer (component 5)(kg in a m^3 mixture)</th>\n",
       "      <th>Coarse Aggregate  (component 6)(kg in a m^3 mixture)</th>\n",
       "      <th>Fine Aggregate (component 7)(kg in a m^3 mixture)</th>\n",
       "      <th>Age (day)</th>\n",
       "      <th>Concrete compressive strength(MPa, megapascals)</th>\n",
       "    </tr>\n",
       "  </thead>\n",
       "  <tbody>\n",
       "    <tr>\n",
       "      <th>0</th>\n",
       "      <td>540.0</td>\n",
       "      <td>0.0</td>\n",
       "      <td>0.0</td>\n",
       "      <td>162.0</td>\n",
       "      <td>2.5</td>\n",
       "      <td>1040.0</td>\n",
       "      <td>676.0</td>\n",
       "      <td>28</td>\n",
       "      <td>79.99</td>\n",
       "    </tr>\n",
       "    <tr>\n",
       "      <th>1</th>\n",
       "      <td>540.0</td>\n",
       "      <td>0.0</td>\n",
       "      <td>0.0</td>\n",
       "      <td>162.0</td>\n",
       "      <td>2.5</td>\n",
       "      <td>1055.0</td>\n",
       "      <td>676.0</td>\n",
       "      <td>28</td>\n",
       "      <td>61.89</td>\n",
       "    </tr>\n",
       "  </tbody>\n",
       "</table>\n",
       "</div>"
      ],
      "text/plain": [
       "   Cement (component 1)(kg in a m^3 mixture)  \\\n",
       "0                                      540.0   \n",
       "1                                      540.0   \n",
       "\n",
       "   Blast Furnace Slag (component 2)(kg in a m^3 mixture)  \\\n",
       "0                                                0.0       \n",
       "1                                                0.0       \n",
       "\n",
       "   Fly Ash (component 3)(kg in a m^3 mixture)  \\\n",
       "0                                         0.0   \n",
       "1                                         0.0   \n",
       "\n",
       "   Water  (component 4)(kg in a m^3 mixture)  \\\n",
       "0                                      162.0   \n",
       "1                                      162.0   \n",
       "\n",
       "   Superplasticizer (component 5)(kg in a m^3 mixture)  \\\n",
       "0                                                2.5     \n",
       "1                                                2.5     \n",
       "\n",
       "   Coarse Aggregate  (component 6)(kg in a m^3 mixture)  \\\n",
       "0                                             1040.0      \n",
       "1                                             1055.0      \n",
       "\n",
       "   Fine Aggregate (component 7)(kg in a m^3 mixture)  Age (day)  \\\n",
       "0                                              676.0         28   \n",
       "1                                              676.0         28   \n",
       "\n",
       "   Concrete compressive strength(MPa, megapascals)   \n",
       "0                                             79.99  \n",
       "1                                             61.89  "
      ]
     },
     "execution_count": 76,
     "metadata": {},
     "output_type": "execute_result"
    }
   ],
   "source": [
    "data = pd.read_csv(r'C:\\Users\\RAJAT SAHU\\Data_Science\\Project\\InnoProject\\ML_Projrct_Concrete_Strength_Prediction\\Concrete_Data.csv')\n",
    "data.head(2)"
   ]
  },
  {
   "cell_type": "markdown",
   "metadata": {},
   "source": [
    "### 2. Print the shape of the data"
   ]
  },
  {
   "cell_type": "code",
   "execution_count": 77,
   "metadata": {},
   "outputs": [
    {
     "data": {
      "text/plain": [
       "(1030, 9)"
      ]
     },
     "execution_count": 77,
     "metadata": {},
     "output_type": "execute_result"
    }
   ],
   "source": [
    "data.shape"
   ]
  },
  {
   "cell_type": "markdown",
   "metadata": {},
   "source": [
    "### 3. List out the feature variables and their data-types"
   ]
  },
  {
   "cell_type": "code",
   "execution_count": 78,
   "metadata": {},
   "outputs": [
    {
     "name": "stdout",
     "output_type": "stream",
     "text": [
      "<class 'pandas.core.frame.DataFrame'>\n",
      "RangeIndex: 1030 entries, 0 to 1029\n",
      "Data columns (total 8 columns):\n",
      " #   Column                                                 Non-Null Count  Dtype  \n",
      "---  ------                                                 --------------  -----  \n",
      " 0   Cement (component 1)(kg in a m^3 mixture)              1030 non-null   float64\n",
      " 1   Blast Furnace Slag (component 2)(kg in a m^3 mixture)  1030 non-null   float64\n",
      " 2   Fly Ash (component 3)(kg in a m^3 mixture)             1030 non-null   float64\n",
      " 3   Water  (component 4)(kg in a m^3 mixture)              1030 non-null   float64\n",
      " 4   Superplasticizer (component 5)(kg in a m^3 mixture)    1030 non-null   float64\n",
      " 5   Coarse Aggregate  (component 6)(kg in a m^3 mixture)   1030 non-null   float64\n",
      " 6   Fine Aggregate (component 7)(kg in a m^3 mixture)      1030 non-null   float64\n",
      " 7   Age (day)                                              1030 non-null   int64  \n",
      "dtypes: float64(7), int64(1)\n",
      "memory usage: 64.5 KB\n"
     ]
    }
   ],
   "source": [
    "X = data.iloc[:,:-1]\n",
    "X.info()"
   ]
  },
  {
   "cell_type": "markdown",
   "metadata": {},
   "source": [
    "### 4. List out response variable and its data type"
   ]
  },
  {
   "cell_type": "code",
   "execution_count": 79,
   "metadata": {},
   "outputs": [
    {
     "name": "stdout",
     "output_type": "stream",
     "text": [
      "Response Veriable Name :  Concrete compressive strength(MPa, megapascals)   \n",
      "Data Types :  float64\n"
     ]
    }
   ],
   "source": [
    "y = data.columns[-1]\n",
    "print('Response Veriable Name : ',y, ' \\nData Types : ', data[str(y)].dtypes)"
   ]
  },
  {
   "cell_type": "markdown",
   "metadata": {},
   "source": [
    "### 5. Check for null values in the feature variables"
   ]
  },
  {
   "cell_type": "code",
   "execution_count": 80,
   "metadata": {},
   "outputs": [
    {
     "data": {
      "text/plain": [
       "Cement (component 1)(kg in a m^3 mixture)                0\n",
       "Blast Furnace Slag (component 2)(kg in a m^3 mixture)    0\n",
       "Fly Ash (component 3)(kg in a m^3 mixture)               0\n",
       "Water  (component 4)(kg in a m^3 mixture)                0\n",
       "Superplasticizer (component 5)(kg in a m^3 mixture)      0\n",
       "Coarse Aggregate  (component 6)(kg in a m^3 mixture)     0\n",
       "Fine Aggregate (component 7)(kg in a m^3 mixture)        0\n",
       "Age (day)                                                0\n",
       "Concrete compressive strength(MPa, megapascals)          0\n",
       "dtype: int64"
      ]
     },
     "execution_count": 80,
     "metadata": {},
     "output_type": "execute_result"
    }
   ],
   "source": [
    "data.isnull().sum()"
   ]
  },
  {
   "cell_type": "code",
   "execution_count": 81,
   "metadata": {},
   "outputs": [
    {
     "data": {
      "text/plain": [
       "Index(['Cement (component 1)(kg in a m^3 mixture)',\n",
       "       'Blast Furnace Slag (component 2)(kg in a m^3 mixture)',\n",
       "       'Fly Ash (component 3)(kg in a m^3 mixture)',\n",
       "       'Water  (component 4)(kg in a m^3 mixture)',\n",
       "       'Superplasticizer (component 5)(kg in a m^3 mixture)',\n",
       "       'Coarse Aggregate  (component 6)(kg in a m^3 mixture)',\n",
       "       'Fine Aggregate (component 7)(kg in a m^3 mixture)', 'Age (day)',\n",
       "       'Concrete compressive strength(MPa, megapascals) '],\n",
       "      dtype='object')"
      ]
     },
     "execution_count": 81,
     "metadata": {},
     "output_type": "execute_result"
    }
   ],
   "source": [
    "data.columns"
   ]
  },
  {
   "cell_type": "code",
   "execution_count": 82,
   "metadata": {},
   "outputs": [],
   "source": [
    "### Project Summary\n",
    "project_summary = {}"
   ]
  },
  {
   "cell_type": "code",
   "execution_count": 83,
   "metadata": {},
   "outputs": [
    {
     "name": "stdout",
     "output_type": "stream",
     "text": [
      "Base Model r2 score :  56.712782280530895 %\n",
      "Base Model MSE :  100.32662082350035\n",
      "Base Model MAE :  7.773955200633321\n"
     ]
    }
   ],
   "source": [
    "# Base model Prepration\n",
    "from sklearn.linear_model import LinearRegression\n",
    "from sklearn.metrics import r2_score,accuracy_score,mean_absolute_error,mean_squared_error\n",
    "from sklearn.model_selection import train_test_split\n",
    "\n",
    "X = data.iloc[:,:-1]\n",
    "y = data.iloc[:,-1]\n",
    "X_train,X_test,y_train,y_test = train_test_split(X,y,test_size=0.25,random_state=32)\n",
    "linreg = LinearRegression()\n",
    "linreg.fit(X_train,y_train)\n",
    "y_pred = linreg.predict(X_test)\n",
    "print('Base Model r2 score : ',r2_score(y_test,y_pred)*100,'%')\n",
    "print('Base Model MSE : ',mean_squared_error(y_test,y_pred))\n",
    "print('Base Model MAE : ',mean_absolute_error(y_test,y_pred))"
   ]
  },
  {
   "cell_type": "code",
   "execution_count": 84,
   "metadata": {},
   "outputs": [
    {
     "data": {
      "text/plain": [
       "{0: {'Model': 'Base 1st LinerRegression',\n",
       "  'R2': 0.5671278228053089,\n",
       "  'MSE': 100.32662082350035,\n",
       "  'MAE': 7.773955200633321,\n",
       "  'Description': 'Model performance without remove Outliers'}}"
      ]
     },
     "execution_count": 84,
     "metadata": {},
     "output_type": "execute_result"
    }
   ],
   "source": [
    "# Project Summary : Base Model 1st \n",
    "project_summary[0] = {}\n",
    "project_summary[0]['Model'] = 'Base 1st LinerRegression'\n",
    "project_summary[0]['R2'] = r2_score(y_test,y_pred)\n",
    "project_summary[0]['MSE'] = mean_squared_error(y_test,y_pred)\n",
    "project_summary[0]['MAE'] = mean_absolute_error(y_test,y_pred)\n",
    "project_summary[0]['Description'] = 'Model performance without remove Outliers'\n",
    "\n",
    "\n",
    "project_summary"
   ]
  },
  {
   "cell_type": "code",
   "execution_count": 85,
   "metadata": {},
   "outputs": [
    {
     "data": {
      "text/html": [
       "<div>\n",
       "<style scoped>\n",
       "    .dataframe tbody tr th:only-of-type {\n",
       "        vertical-align: middle;\n",
       "    }\n",
       "\n",
       "    .dataframe tbody tr th {\n",
       "        vertical-align: top;\n",
       "    }\n",
       "\n",
       "    .dataframe thead th {\n",
       "        text-align: right;\n",
       "    }\n",
       "</style>\n",
       "<table border=\"1\" class=\"dataframe\">\n",
       "  <thead>\n",
       "    <tr style=\"text-align: right;\">\n",
       "      <th></th>\n",
       "      <th>Cement (component 1)(kg in a m^3 mixture)</th>\n",
       "      <th>Blast Furnace Slag (component 2)(kg in a m^3 mixture)</th>\n",
       "      <th>Fly Ash (component 3)(kg in a m^3 mixture)</th>\n",
       "      <th>Water  (component 4)(kg in a m^3 mixture)</th>\n",
       "      <th>Superplasticizer (component 5)(kg in a m^3 mixture)</th>\n",
       "      <th>Coarse Aggregate  (component 6)(kg in a m^3 mixture)</th>\n",
       "      <th>Fine Aggregate (component 7)(kg in a m^3 mixture)</th>\n",
       "      <th>Age (day)</th>\n",
       "      <th>Concrete compressive strength(MPa, megapascals)</th>\n",
       "    </tr>\n",
       "  </thead>\n",
       "  <tbody>\n",
       "    <tr>\n",
       "      <th>count</th>\n",
       "      <td>1030.000000</td>\n",
       "      <td>1030.000000</td>\n",
       "      <td>1030.000000</td>\n",
       "      <td>1030.000000</td>\n",
       "      <td>1030.000000</td>\n",
       "      <td>1030.000000</td>\n",
       "      <td>1030.000000</td>\n",
       "      <td>1030.000000</td>\n",
       "      <td>1030.000000</td>\n",
       "    </tr>\n",
       "    <tr>\n",
       "      <th>mean</th>\n",
       "      <td>281.167864</td>\n",
       "      <td>73.895825</td>\n",
       "      <td>54.188350</td>\n",
       "      <td>181.567282</td>\n",
       "      <td>6.204660</td>\n",
       "      <td>972.918932</td>\n",
       "      <td>773.580485</td>\n",
       "      <td>45.662136</td>\n",
       "      <td>35.817961</td>\n",
       "    </tr>\n",
       "    <tr>\n",
       "      <th>std</th>\n",
       "      <td>104.506364</td>\n",
       "      <td>86.279342</td>\n",
       "      <td>63.997004</td>\n",
       "      <td>21.354219</td>\n",
       "      <td>5.973841</td>\n",
       "      <td>77.753954</td>\n",
       "      <td>80.175980</td>\n",
       "      <td>63.169912</td>\n",
       "      <td>16.705742</td>\n",
       "    </tr>\n",
       "    <tr>\n",
       "      <th>min</th>\n",
       "      <td>102.000000</td>\n",
       "      <td>0.000000</td>\n",
       "      <td>0.000000</td>\n",
       "      <td>121.800000</td>\n",
       "      <td>0.000000</td>\n",
       "      <td>801.000000</td>\n",
       "      <td>594.000000</td>\n",
       "      <td>1.000000</td>\n",
       "      <td>2.330000</td>\n",
       "    </tr>\n",
       "    <tr>\n",
       "      <th>25%</th>\n",
       "      <td>192.375000</td>\n",
       "      <td>0.000000</td>\n",
       "      <td>0.000000</td>\n",
       "      <td>164.900000</td>\n",
       "      <td>0.000000</td>\n",
       "      <td>932.000000</td>\n",
       "      <td>730.950000</td>\n",
       "      <td>7.000000</td>\n",
       "      <td>23.710000</td>\n",
       "    </tr>\n",
       "    <tr>\n",
       "      <th>50%</th>\n",
       "      <td>272.900000</td>\n",
       "      <td>22.000000</td>\n",
       "      <td>0.000000</td>\n",
       "      <td>185.000000</td>\n",
       "      <td>6.400000</td>\n",
       "      <td>968.000000</td>\n",
       "      <td>779.500000</td>\n",
       "      <td>28.000000</td>\n",
       "      <td>34.445000</td>\n",
       "    </tr>\n",
       "    <tr>\n",
       "      <th>75%</th>\n",
       "      <td>350.000000</td>\n",
       "      <td>142.950000</td>\n",
       "      <td>118.300000</td>\n",
       "      <td>192.000000</td>\n",
       "      <td>10.200000</td>\n",
       "      <td>1029.400000</td>\n",
       "      <td>824.000000</td>\n",
       "      <td>56.000000</td>\n",
       "      <td>46.135000</td>\n",
       "    </tr>\n",
       "    <tr>\n",
       "      <th>max</th>\n",
       "      <td>540.000000</td>\n",
       "      <td>359.400000</td>\n",
       "      <td>200.100000</td>\n",
       "      <td>247.000000</td>\n",
       "      <td>32.200000</td>\n",
       "      <td>1145.000000</td>\n",
       "      <td>992.600000</td>\n",
       "      <td>365.000000</td>\n",
       "      <td>82.600000</td>\n",
       "    </tr>\n",
       "  </tbody>\n",
       "</table>\n",
       "</div>"
      ],
      "text/plain": [
       "       Cement (component 1)(kg in a m^3 mixture)  \\\n",
       "count                                1030.000000   \n",
       "mean                                  281.167864   \n",
       "std                                   104.506364   \n",
       "min                                   102.000000   \n",
       "25%                                   192.375000   \n",
       "50%                                   272.900000   \n",
       "75%                                   350.000000   \n",
       "max                                   540.000000   \n",
       "\n",
       "       Blast Furnace Slag (component 2)(kg in a m^3 mixture)  \\\n",
       "count                                        1030.000000       \n",
       "mean                                           73.895825       \n",
       "std                                            86.279342       \n",
       "min                                             0.000000       \n",
       "25%                                             0.000000       \n",
       "50%                                            22.000000       \n",
       "75%                                           142.950000       \n",
       "max                                           359.400000       \n",
       "\n",
       "       Fly Ash (component 3)(kg in a m^3 mixture)  \\\n",
       "count                                 1030.000000   \n",
       "mean                                    54.188350   \n",
       "std                                     63.997004   \n",
       "min                                      0.000000   \n",
       "25%                                      0.000000   \n",
       "50%                                      0.000000   \n",
       "75%                                    118.300000   \n",
       "max                                    200.100000   \n",
       "\n",
       "       Water  (component 4)(kg in a m^3 mixture)  \\\n",
       "count                                1030.000000   \n",
       "mean                                  181.567282   \n",
       "std                                    21.354219   \n",
       "min                                   121.800000   \n",
       "25%                                   164.900000   \n",
       "50%                                   185.000000   \n",
       "75%                                   192.000000   \n",
       "max                                   247.000000   \n",
       "\n",
       "       Superplasticizer (component 5)(kg in a m^3 mixture)  \\\n",
       "count                                        1030.000000     \n",
       "mean                                            6.204660     \n",
       "std                                             5.973841     \n",
       "min                                             0.000000     \n",
       "25%                                             0.000000     \n",
       "50%                                             6.400000     \n",
       "75%                                            10.200000     \n",
       "max                                            32.200000     \n",
       "\n",
       "       Coarse Aggregate  (component 6)(kg in a m^3 mixture)  \\\n",
       "count                                        1030.000000      \n",
       "mean                                          972.918932      \n",
       "std                                            77.753954      \n",
       "min                                           801.000000      \n",
       "25%                                           932.000000      \n",
       "50%                                           968.000000      \n",
       "75%                                          1029.400000      \n",
       "max                                          1145.000000      \n",
       "\n",
       "       Fine Aggregate (component 7)(kg in a m^3 mixture)    Age (day)  \\\n",
       "count                                        1030.000000  1030.000000   \n",
       "mean                                          773.580485    45.662136   \n",
       "std                                            80.175980    63.169912   \n",
       "min                                           594.000000     1.000000   \n",
       "25%                                           730.950000     7.000000   \n",
       "50%                                           779.500000    28.000000   \n",
       "75%                                           824.000000    56.000000   \n",
       "max                                           992.600000   365.000000   \n",
       "\n",
       "       Concrete compressive strength(MPa, megapascals)   \n",
       "count                                       1030.000000  \n",
       "mean                                          35.817961  \n",
       "std                                           16.705742  \n",
       "min                                            2.330000  \n",
       "25%                                           23.710000  \n",
       "50%                                           34.445000  \n",
       "75%                                           46.135000  \n",
       "max                                           82.600000  "
      ]
     },
     "execution_count": 85,
     "metadata": {},
     "output_type": "execute_result"
    }
   ],
   "source": [
    "data.describe()"
   ]
  },
  {
   "cell_type": "code",
   "execution_count": 86,
   "metadata": {},
   "outputs": [
    {
     "data": {
      "image/png": "[encoded data removed]",
      "text/plain": [
       "<Figure size 432x288 with 1 Axes>"
      ]
     },
     "metadata": {
      "needs_background": "light"
     },
     "output_type": "display_data"
    },
    {
     "data": {
      "image/png": "[encoded data removed]",
      "text/plain": [
       "<Figure size 432x288 with 1 Axes>"
      ]
     },
     "metadata": {
      "needs_background": "light"
     },
     "output_type": "display_data"
    },
    {
     "data": {
      "image/png": "[encoded data removed]",
      "text/plain": [
       "<Figure size 432x288 with 1 Axes>"
      ]
     },
     "metadata": {
      "needs_background": "light"
     },
     "output_type": "display_data"
    },
    {
     "data": {
      "image/png": "[encoded data removed]",
      "text/plain": [
       "<Figure size 432x288 with 1 Axes>"
      ]
     },
     "metadata": {
      "needs_background": "light"
     },
     "output_type": "display_data"
    },
    {
     "data": {
      "image/png": "[encoded data removed]",
      "text/plain": [
       "<Figure size 432x288 with 1 Axes>"
      ]
     },
     "metadata": {
      "needs_background": "light"
     },
     "output_type": "display_data"
    },
    {
     "data": {
      "image/png": "[encoded data removed]",
      "text/plain": [
       "<Figure size 432x288 with 1 Axes>"
      ]
     },
     "metadata": {
      "needs_background": "light"
     },
     "output_type": "display_data"
    },
    {
     "data": {
      "image/png": "[encoded data removed]",
      "text/plain": [
       "<Figure size 432x288 with 1 Axes>"
      ]
     },
     "metadata": {
      "needs_background": "light"
     },
     "output_type": "display_data"
    },
    {
     "data": {
      "image/png": "[encoded data removed]",
      "text/plain": [
       "<Figure size 432x288 with 1 Axes>"
      ]
     },
     "metadata": {
      "needs_background": "light"
     },
     "output_type": "display_data"
    },
    {
     "data": {
      "image/png": "[encoded data removed]",
      "text/plain": [
       "<Figure size 432x288 with 1 Axes>"
      ]
     },
     "metadata": {
      "needs_background": "light"
     },
     "output_type": "display_data"
    }
   ],
   "source": [
    "for col in data.columns:\n",
    "    sns.distplot(data[str(col)])\n",
    "    plt.show()"
   ]
  },
  {
   "cell_type": "markdown",
   "metadata": {},
   "source": [
    "### 6. Check for outliers\n",
    "    1. IQR Method\n",
    "    2. Z score"
   ]
  },
  {
   "cell_type": "code",
   "execution_count": 87,
   "metadata": {},
   "outputs": [
    {
     "name": "stdout",
     "output_type": "stream",
     "text": [
      "Upper range Outliers \"Cement (component 1)(kg in a m^3 mixture)\":  0\n",
      "Lower range Outliers \"Cement (component 1)(kg in a m^3 mixture)\":  0\n",
      "\n",
      "Upper range Outliers \"Blast Furnace Slag (component 2)(kg in a m^3 mixture)\":  2\n",
      "Lower range Outliers \"Blast Furnace Slag (component 2)(kg in a m^3 mixture)\":  0\n",
      "\n",
      "Upper range Outliers \"Fly Ash (component 3)(kg in a m^3 mixture)\":  0\n",
      "Lower range Outliers \"Fly Ash (component 3)(kg in a m^3 mixture)\":  0\n",
      "\n",
      "Upper range Outliers \"Water  (component 4)(kg in a m^3 mixture)\":  4\n",
      "Lower range Outliers \"Water  (component 4)(kg in a m^3 mixture)\":  5\n",
      "\n",
      "Upper range Outliers \"Superplasticizer (component 5)(kg in a m^3 mixture)\":  10\n",
      "Lower range Outliers \"Superplasticizer (component 5)(kg in a m^3 mixture)\":  0\n",
      "\n",
      "Upper range Outliers \"Coarse Aggregate  (component 6)(kg in a m^3 mixture)\":  0\n",
      "Lower range Outliers \"Coarse Aggregate  (component 6)(kg in a m^3 mixture)\":  0\n",
      "\n",
      "Upper range Outliers \"Fine Aggregate (component 7)(kg in a m^3 mixture)\":  5\n",
      "Lower range Outliers \"Fine Aggregate (component 7)(kg in a m^3 mixture)\":  0\n",
      "\n",
      "Upper range Outliers \"Age (day)\":  59\n",
      "Lower range Outliers \"Age (day)\":  0\n",
      "\n",
      "Upper range Outliers \"Concrete compressive strength(MPa, megapascals) \":  4\n",
      "Lower range Outliers \"Concrete compressive strength(MPa, megapascals) \":  0\n",
      "\n"
     ]
    }
   ],
   "source": [
    "# 1. IQR method\n",
    "for  col in data.columns:\n",
    "    Q1 = data[str(col)].quantile(0.25)\n",
    "    Q3 = data[str(col)].quantile(0.75)\n",
    "    IQR = Q3-Q1\n",
    "    # Max and Lower range\n",
    "    lr = Q1-1.5*IQR\n",
    "    ur = Q3+1.5*IQR\n",
    "    print('Upper range Outliers \"'+str(col)+'\": ',data[str(col)][data[str(col)]>ur].count())\n",
    "    print('Lower range Outliers \"'+str(col)+'\": ',data[str(col)][data[str(col)]<lr].count())\n",
    "    print(\"\")"
   ]
  },
  {
   "cell_type": "code",
   "execution_count": 88,
   "metadata": {},
   "outputs": [],
   "source": [
    "# Z score Technique based outliers detection\n",
    "from scipy.stats import zscore\n",
    "z = np.abs(zscore(data))\n",
    "threshold = 3"
   ]
  },
  {
   "cell_type": "markdown",
   "metadata": {},
   "source": [
    "### 7. Treat outliers. What is your strategy? What other strategies can be used?"
   ]
  },
  {
   "cell_type": "markdown",
   "metadata": {},
   "source": [
    "#### Note : We have to two common diffrent strategy to remove outliers.\n",
    "    1. IQR \n",
    "    2. Z score"
   ]
  },
  {
   "cell_type": "markdown",
   "metadata": {},
   "source": [
    "### 8. Perform univariate analysis (be as creative as possible in your analysis)\n",
    "    1. Visualize the shape of the distribution of data.Is every feature variable normally distributed? Why is normal distribution important for data?\n",
    "    2. Is the data distribution skewed? If highly skewed, do you still find outliers which you did not treat? Draw box and whiskers plot of each of the feature variables\n",
    "    3. How do the distributions look in terms of variation? Which features are widely spread and which are kind of concentrated towards the mean?"
   ]
  },
  {
   "cell_type": "code",
   "execution_count": 89,
   "metadata": {},
   "outputs": [
    {
     "data": {
      "text/plain": [
       "Index(['Cement (component 1)(kg in a m^3 mixture)',\n",
       "       'Blast Furnace Slag (component 2)(kg in a m^3 mixture)',\n",
       "       'Fly Ash (component 3)(kg in a m^3 mixture)',\n",
       "       'Water  (component 4)(kg in a m^3 mixture)',\n",
       "       'Superplasticizer (component 5)(kg in a m^3 mixture)',\n",
       "       'Coarse Aggregate  (component 6)(kg in a m^3 mixture)',\n",
       "       'Fine Aggregate (component 7)(kg in a m^3 mixture)', 'Age (day)',\n",
       "       'Concrete compressive strength(MPa, megapascals) '],\n",
       "      dtype='object')"
      ]
     },
     "execution_count": 89,
     "metadata": {},
     "output_type": "execute_result"
    }
   ],
   "source": [
    "data.columns"
   ]
  },
  {
   "cell_type": "code",
   "execution_count": 90,
   "metadata": {},
   "outputs": [
    {
     "data": {
      "image/png": "[encoded data removed]",
      "text/plain": [
       "<Figure size 1080x144 with 3 Axes>"
      ]
     },
     "metadata": {
      "needs_background": "light"
     },
     "output_type": "display_data"
    }
   ],
   "source": [
    "# Multiverient Analysis :  Features 1st\n",
    "col = 'Cement (component 1)(kg in a m^3 mixture)'\n",
    "plt.figure(figsize=(15,2))\n",
    "plt.subplot(131)\n",
    "sns.distplot(data[col])\n",
    "plt.title('Normal Distribution')\n",
    "plt.subplot(132)\n",
    "sns.boxplot(data[col])\n",
    "plt.title('Outliers detections')\n",
    "plt.subplot(133)\n",
    "sns.distplot(np.log(data[col]))\n",
    "plt.title('Normal Distribution using logarithm')\n",
    "plt.show()"
   ]
  },
  {
   "cell_type": "code",
   "execution_count": 91,
   "metadata": {},
   "outputs": [
    {
     "data": {
      "image/png": "[encoded data removed]",
      "text/plain": [
       "<Figure size 1080x144 with 2 Axes>"
      ]
     },
     "metadata": {
      "needs_background": "light"
     },
     "output_type": "display_data"
    },
    {
     "data": {
      "image/png": "[encoded data removed]",
      "text/plain": [
       "<Figure size 432x288 with 1 Axes>"
      ]
     },
     "metadata": {
      "needs_background": "light"
     },
     "output_type": "display_data"
    }
   ],
   "source": [
    "# Multiverient Analysis :  Features 2nd\n",
    "col = 'Blast Furnace Slag (component 2)(kg in a m^3 mixture)'\n",
    "plt.figure(figsize=(15,2))\n",
    "plt.subplot(121)\n",
    "sns.distplot(data[col])\n",
    "plt.title('Normal Distribution')\n",
    "plt.subplot(122)\n",
    "sns.boxplot(data[col])\n",
    "plt.title('Outliers detections')\n",
    "plt.show()\n",
    "\n",
    "# Outliers handling\n",
    "Q1 = data[str(col)].quantile(0.25)\n",
    "Q3 = data[str(col)].quantile(0.75)\n",
    "IQR = Q3-Q1\n",
    "# Max and Lower range\n",
    "lr = Q1-1.5*IQR\n",
    "ur = Q3+1.5*IQR\n",
    "data.drop(data[data[col] > ur ].index, inplace = True)\n",
    "# After remove  Outliers\n",
    "sns.boxplot(data[col])\n",
    "plt.title('Outliers Treatment')\n",
    "plt.show()"
   ]
  },
  {
   "cell_type": "code",
   "execution_count": 92,
   "metadata": {},
   "outputs": [
    {
     "data": {
      "image/png": "[encoded data removed]",
      "text/plain": [
       "<Figure size 1080x144 with 2 Axes>"
      ]
     },
     "metadata": {
      "needs_background": "light"
     },
     "output_type": "display_data"
    }
   ],
   "source": [
    "# Multiverient Analysis :  Features 3rd\n",
    "col = 'Fly Ash (component 3)(kg in a m^3 mixture)'\n",
    "plt.figure(figsize=(15,2))\n",
    "plt.subplot(121)\n",
    "sns.distplot(data[col])\n",
    "plt.title('Normal Distribution')\n",
    "plt.subplot(122)\n",
    "sns.boxplot(data[col])\n",
    "plt.title('Outliers detections')\n",
    "plt.show()"
   ]
  },
  {
   "cell_type": "code",
   "execution_count": 93,
   "metadata": {},
   "outputs": [
    {
     "data": {
      "image/png": "[encoded data removed]",
      "text/plain": [
       "<Figure size 1080x144 with 2 Axes>"
      ]
     },
     "metadata": {
      "needs_background": "light"
     },
     "output_type": "display_data"
    },
    {
     "data": {
      "image/png": "[encoded data removed]",
      "text/plain": [
       "<Figure size 432x288 with 1 Axes>"
      ]
     },
     "metadata": {
      "needs_background": "light"
     },
     "output_type": "display_data"
    }
   ],
   "source": [
    "# Multiverient Analysis :  Features 4th\n",
    "col = 'Water  (component 4)(kg in a m^3 mixture)'\n",
    "plt.figure(figsize=(15,2))\n",
    "plt.subplot(121)\n",
    "sns.distplot(data[col])\n",
    "plt.title('Normal Distribution')\n",
    "plt.subplot(122)\n",
    "sns.boxplot(data[col])\n",
    "plt.title('Outliers detections')\n",
    "plt.show()\n",
    "\n",
    "# Outliers handling\n",
    "Q1 = data[str(col)].quantile(0.25)\n",
    "Q3 = data[str(col)].quantile(0.75)\n",
    "IQR = Q3-Q1\n",
    "# Max and Lower range\n",
    "lr = Q1-1.5*IQR\n",
    "ur = Q3+1.5*IQR\n",
    "data.drop(data[data[col] > ur ].index, inplace = True)\n",
    "data.drop(data[data[col] < lr ].index, inplace = True)\n",
    "# After remove  Outliers\n",
    "sns.boxplot(data[col])\n",
    "plt.title('Outliers Treatment')\n",
    "plt.show()"
   ]
  },
  {
   "cell_type": "code",
   "execution_count": 94,
   "metadata": {},
   "outputs": [
    {
     "data": {
      "image/png": "[encoded data removed]",
      "text/plain": [
       "<Figure size 1080x144 with 2 Axes>"
      ]
     },
     "metadata": {
      "needs_background": "light"
     },
     "output_type": "display_data"
    },
    {
     "data": {
      "image/png": "[encoded data removed]",
      "text/plain": [
       "<Figure size 432x288 with 1 Axes>"
      ]
     },
     "metadata": {
      "needs_background": "light"
     },
     "output_type": "display_data"
    }
   ],
   "source": [
    "# Multiverient Analysis :  Features 5th\n",
    "col = 'Superplasticizer (component 5)(kg in a m^3 mixture)'\n",
    "plt.figure(figsize=(15,2))\n",
    "plt.subplot(121)\n",
    "sns.distplot(data[col])\n",
    "plt.title('Normal Distribution')\n",
    "plt.subplot(122)\n",
    "sns.boxplot(data[col])\n",
    "plt.title('Outliers detections')\n",
    "plt.show()\n",
    "\n",
    "# Outliers handling\n",
    "Q1 = data[str(col)].quantile(0.25)\n",
    "Q3 = data[str(col)].quantile(0.75)\n",
    "IQR = Q3-Q1\n",
    "# Max and Lower range\n",
    "lr = Q1-1.5*IQR\n",
    "ur = Q3+1.5*IQR\n",
    "data.drop(data[data[col] > ur ].index, inplace = True)\n",
    "# After remove  Outliers\n",
    "sns.boxplot(data[col])\n",
    "plt.title('Outliers Treatment')\n",
    "plt.show()"
   ]
  },
  {
   "cell_type": "code",
   "execution_count": 95,
   "metadata": {},
   "outputs": [
    {
     "data": {
      "image/png": "[encoded data removed]",
      "text/plain": [
       "<Figure size 1080x144 with 2 Axes>"
      ]
     },
     "metadata": {
      "needs_background": "light"
     },
     "output_type": "display_data"
    }
   ],
   "source": [
    "# Multiverient Analysis :  Features 6th\n",
    "col = 'Coarse Aggregate  (component 6)(kg in a m^3 mixture)'\n",
    "plt.figure(figsize=(15,2))\n",
    "plt.subplot(121)\n",
    "sns.distplot(data[col])\n",
    "plt.title('Normal Distribution')\n",
    "plt.subplot(122)\n",
    "sns.boxplot(data[col])\n",
    "plt.title('Outliers detections')\n",
    "plt.show()"
   ]
  },
  {
   "cell_type": "code",
   "execution_count": 96,
   "metadata": {},
   "outputs": [
    {
     "data": {
      "image/png": "[encoded data removed]",
      "text/plain": [
       "<Figure size 1080x144 with 2 Axes>"
      ]
     },
     "metadata": {
      "needs_background": "light"
     },
     "output_type": "display_data"
    },
    {
     "data": {
      "image/png": "[encoded data removed]",
      "text/plain": [
       "<Figure size 432x288 with 1 Axes>"
      ]
     },
     "metadata": {
      "needs_background": "light"
     },
     "output_type": "display_data"
    }
   ],
   "source": [
    "# Multiverient Analysis :  Features 7th\n",
    "col = 'Fine Aggregate (component 7)(kg in a m^3 mixture)'\n",
    "plt.figure(figsize=(15,2))\n",
    "plt.subplot(121)\n",
    "sns.distplot(data[col])\n",
    "plt.title('Normal Distribution')\n",
    "plt.subplot(122)\n",
    "sns.boxplot(data[col])\n",
    "plt.title('Outliers detections')\n",
    "plt.show()\n",
    "\n",
    "# Outliers handling\n",
    "Q1 = data[str(col)].quantile(0.25)\n",
    "Q3 = data[str(col)].quantile(0.75)\n",
    "IQR = Q3-Q1\n",
    "# Max and Lower range\n",
    "lr = Q1-1.5*IQR\n",
    "ur = Q3+1.5*IQR\n",
    "data.drop(data[data[col] > ur ].index, inplace = True)\n",
    "data.drop(data[data[col] < lr ].index, inplace = True)\n",
    "# After remove  Outliers\n",
    "sns.boxplot(data[col])\n",
    "plt.title('Outliers Treatment')\n",
    "plt.show()"
   ]
  },
  {
   "cell_type": "code",
   "execution_count": 98,
   "metadata": {},
   "outputs": [
    {
     "data": {
      "image/png": "[encoded data removed]",
      "text/plain": [
       "<Figure size 1080x144 with 2 Axes>"
      ]
     },
     "metadata": {
      "needs_background": "light"
     },
     "output_type": "display_data"
    },
    {
     "data": {
      "image/png": "[encoded data removed]",
      "text/plain": [
       "<Figure size 432x288 with 1 Axes>"
      ]
     },
     "metadata": {
      "needs_background": "light"
     },
     "output_type": "display_data"
    }
   ],
   "source": [
    "# Multiverient Analysis :  Features 8th\n",
    "col = 'Age (day)'\n",
    "plt.figure(figsize=(15,2))\n",
    "plt.subplot(121)\n",
    "sns.distplot(data[col])\n",
    "plt.title('Normal Distribution')\n",
    "plt.subplot(122)\n",
    "sns.boxplot(data[col])\n",
    "plt.title('Outliers detections')\n",
    "plt.show()\n",
    "\n",
    "# Outliers handling\n",
    "Q1 = data[str(col)].quantile(0.25)\n",
    "Q3 = data[str(col)].quantile(0.75)\n",
    "IQR = Q3-Q1\n",
    "# Max and Lower range\n",
    "lr = Q1-1.5*IQR\n",
    "ur = Q3+1.5*IQR\n",
    "data.drop(data[data[col] > ur ].index, inplace = True)\n",
    "# After remove  Outliers\n",
    "sns.boxplot(data[col])\n",
    "plt.title('Outliers Treatment')\n",
    "plt.show()"
   ]
  },
  {
   "cell_type": "markdown",
   "metadata": {},
   "source": [
    "## After remove all Outliers : Now apply the 2nd Base Model (Removed all outliers). Process called Outliers Treatment"
   ]
  },
  {
   "cell_type": "code",
   "execution_count": 99,
   "metadata": {},
   "outputs": [
    {
     "name": "stdout",
     "output_type": "stream",
     "text": [
      "Standred Scaller Base Model Accuarcy :  80.94287130445498 %\n",
      "Standred Scaller Base Model MSE :  55.86575687443193\n",
      "Standred Scaller Base Model MAE :  5.74740455898651\n"
     ]
    }
   ],
   "source": [
    "# Features and Target Selection \n",
    "X = data.iloc[:,:-1]\n",
    "y = data.iloc[:,-1]\n",
    "\n",
    "# Regression Technique\n",
    "X_train,X_test,y_train,y_test = train_test_split(X,y,test_size=0.20,random_state=31)\n",
    "linreg = LinearRegression()\n",
    "linreg.fit(X_train,y_train)\n",
    "y_pred = linreg.predict(X_test)\n",
    "print('Standred Scaller Base Model Accuarcy : ',r2_score(y_test,y_pred)*100,'%')\n",
    "print('Standred Scaller Base Model MSE : ',mean_squared_error(y_test,y_pred))\n",
    "print('Standred Scaller Base Model MAE : ',mean_absolute_error(y_test,y_pred))"
   ]
  },
  {
   "cell_type": "code",
   "execution_count": 100,
   "metadata": {},
   "outputs": [
    {
     "data": {
      "text/plain": [
       "{0: {'Model': 'Base 1st LinerRegression',\n",
       "  'R2': 0.5671278228053089,\n",
       "  'MSE': 100.32662082350035,\n",
       "  'MAE': 7.773955200633321,\n",
       "  'Description': 'Model performance without remove Outliers'},\n",
       " 1: {'Model': 'Base Model 2nd LinerRegression',\n",
       "  'R2': 0.8094287130445499,\n",
       "  'MSE': 55.86575687443193,\n",
       "  'MAE': 5.74740455898651,\n",
       "  'Description': 'Model performance removed Outliers'}}"
      ]
     },
     "execution_count": 100,
     "metadata": {},
     "output_type": "execute_result"
    }
   ],
   "source": [
    "# Project Summary : Base Model 1st \n",
    "project_summary[1] = {}\n",
    "project_summary[1]['Model'] = 'Base Model 2nd LinerRegression'\n",
    "project_summary[1]['R2'] = r2_score(y_test,y_pred)\n",
    "project_summary[1]['MSE'] = mean_squared_error(y_test,y_pred)\n",
    "project_summary[1]['MAE'] = mean_absolute_error(y_test,y_pred)\n",
    "project_summary[1]['Description'] = 'Model performance removed Outliers'\n",
    "\n",
    "\n",
    "project_summary"
   ]
  },
  {
   "cell_type": "code",
   "execution_count": 30,
   "metadata": {
    "collapsed": true
   },
   "outputs": [
    {
     "data": {
      "text/html": [
       "<div>\n",
       "<style scoped>\n",
       "    .dataframe tbody tr th:only-of-type {\n",
       "        vertical-align: middle;\n",
       "    }\n",
       "\n",
       "    .dataframe tbody tr th {\n",
       "        vertical-align: top;\n",
       "    }\n",
       "\n",
       "    .dataframe thead th {\n",
       "        text-align: right;\n",
       "    }\n",
       "</style>\n",
       "<table border=\"1\" class=\"dataframe\">\n",
       "  <thead>\n",
       "    <tr style=\"text-align: right;\">\n",
       "      <th></th>\n",
       "      <th>Cement (component 1)(kg in a m^3 mixture)</th>\n",
       "      <th>Blast Furnace Slag (component 2)(kg in a m^3 mixture)</th>\n",
       "      <th>Fly Ash (component 3)(kg in a m^3 mixture)</th>\n",
       "      <th>Water  (component 4)(kg in a m^3 mixture)</th>\n",
       "      <th>Superplasticizer (component 5)(kg in a m^3 mixture)</th>\n",
       "      <th>Coarse Aggregate  (component 6)(kg in a m^3 mixture)</th>\n",
       "      <th>Fine Aggregate (component 7)(kg in a m^3 mixture)</th>\n",
       "      <th>Age (day)</th>\n",
       "      <th>Concrete compressive strength(MPa, megapascals)</th>\n",
       "    </tr>\n",
       "  </thead>\n",
       "  <tbody>\n",
       "    <tr>\n",
       "      <th>0</th>\n",
       "      <td>540.0</td>\n",
       "      <td>0.0</td>\n",
       "      <td>0.0</td>\n",
       "      <td>162.0</td>\n",
       "      <td>2.5</td>\n",
       "      <td>1040.0</td>\n",
       "      <td>676.0</td>\n",
       "      <td>28</td>\n",
       "      <td>79.99</td>\n",
       "    </tr>\n",
       "    <tr>\n",
       "      <th>1</th>\n",
       "      <td>540.0</td>\n",
       "      <td>0.0</td>\n",
       "      <td>0.0</td>\n",
       "      <td>162.0</td>\n",
       "      <td>2.5</td>\n",
       "      <td>1055.0</td>\n",
       "      <td>676.0</td>\n",
       "      <td>28</td>\n",
       "      <td>61.89</td>\n",
       "    </tr>\n",
       "    <tr>\n",
       "      <th>8</th>\n",
       "      <td>266.0</td>\n",
       "      <td>114.0</td>\n",
       "      <td>0.0</td>\n",
       "      <td>228.0</td>\n",
       "      <td>0.0</td>\n",
       "      <td>932.0</td>\n",
       "      <td>670.0</td>\n",
       "      <td>28</td>\n",
       "      <td>45.85</td>\n",
       "    </tr>\n",
       "    <tr>\n",
       "      <th>11</th>\n",
       "      <td>198.6</td>\n",
       "      <td>132.4</td>\n",
       "      <td>0.0</td>\n",
       "      <td>192.0</td>\n",
       "      <td>0.0</td>\n",
       "      <td>978.4</td>\n",
       "      <td>825.5</td>\n",
       "      <td>28</td>\n",
       "      <td>28.02</td>\n",
       "    </tr>\n",
       "    <tr>\n",
       "      <th>14</th>\n",
       "      <td>304.0</td>\n",
       "      <td>76.0</td>\n",
       "      <td>0.0</td>\n",
       "      <td>228.0</td>\n",
       "      <td>0.0</td>\n",
       "      <td>932.0</td>\n",
       "      <td>670.0</td>\n",
       "      <td>28</td>\n",
       "      <td>47.81</td>\n",
       "    </tr>\n",
       "    <tr>\n",
       "      <th>...</th>\n",
       "      <td>...</td>\n",
       "      <td>...</td>\n",
       "      <td>...</td>\n",
       "      <td>...</td>\n",
       "      <td>...</td>\n",
       "      <td>...</td>\n",
       "      <td>...</td>\n",
       "      <td>...</td>\n",
       "      <td>...</td>\n",
       "    </tr>\n",
       "    <tr>\n",
       "      <th>1025</th>\n",
       "      <td>276.4</td>\n",
       "      <td>116.0</td>\n",
       "      <td>90.3</td>\n",
       "      <td>179.6</td>\n",
       "      <td>8.9</td>\n",
       "      <td>870.1</td>\n",
       "      <td>768.3</td>\n",
       "      <td>28</td>\n",
       "      <td>44.28</td>\n",
       "    </tr>\n",
       "    <tr>\n",
       "      <th>1026</th>\n",
       "      <td>322.2</td>\n",
       "      <td>0.0</td>\n",
       "      <td>115.6</td>\n",
       "      <td>196.0</td>\n",
       "      <td>10.4</td>\n",
       "      <td>817.9</td>\n",
       "      <td>813.4</td>\n",
       "      <td>28</td>\n",
       "      <td>31.18</td>\n",
       "    </tr>\n",
       "    <tr>\n",
       "      <th>1027</th>\n",
       "      <td>148.5</td>\n",
       "      <td>139.4</td>\n",
       "      <td>108.6</td>\n",
       "      <td>192.7</td>\n",
       "      <td>6.1</td>\n",
       "      <td>892.4</td>\n",
       "      <td>780.0</td>\n",
       "      <td>28</td>\n",
       "      <td>23.70</td>\n",
       "    </tr>\n",
       "    <tr>\n",
       "      <th>1028</th>\n",
       "      <td>159.1</td>\n",
       "      <td>186.7</td>\n",
       "      <td>0.0</td>\n",
       "      <td>175.6</td>\n",
       "      <td>11.3</td>\n",
       "      <td>989.6</td>\n",
       "      <td>788.9</td>\n",
       "      <td>28</td>\n",
       "      <td>32.77</td>\n",
       "    </tr>\n",
       "    <tr>\n",
       "      <th>1029</th>\n",
       "      <td>260.9</td>\n",
       "      <td>100.5</td>\n",
       "      <td>78.3</td>\n",
       "      <td>200.6</td>\n",
       "      <td>8.6</td>\n",
       "      <td>864.5</td>\n",
       "      <td>761.5</td>\n",
       "      <td>28</td>\n",
       "      <td>32.40</td>\n",
       "    </tr>\n",
       "  </tbody>\n",
       "</table>\n",
       "<p>775 rows × 9 columns</p>\n",
       "</div>"
      ],
      "text/plain": [
       "      Cement (component 1)(kg in a m^3 mixture)  \\\n",
       "0                                         540.0   \n",
       "1                                         540.0   \n",
       "8                                         266.0   \n",
       "11                                        198.6   \n",
       "14                                        304.0   \n",
       "...                                         ...   \n",
       "1025                                      276.4   \n",
       "1026                                      322.2   \n",
       "1027                                      148.5   \n",
       "1028                                      159.1   \n",
       "1029                                      260.9   \n",
       "\n",
       "      Blast Furnace Slag (component 2)(kg in a m^3 mixture)  \\\n",
       "0                                                   0.0       \n",
       "1                                                   0.0       \n",
       "8                                                 114.0       \n",
       "11                                                132.4       \n",
       "14                                                 76.0       \n",
       "...                                                 ...       \n",
       "1025                                              116.0       \n",
       "1026                                                0.0       \n",
       "1027                                              139.4       \n",
       "1028                                              186.7       \n",
       "1029                                              100.5       \n",
       "\n",
       "      Fly Ash (component 3)(kg in a m^3 mixture)  \\\n",
       "0                                            0.0   \n",
       "1                                            0.0   \n",
       "8                                            0.0   \n",
       "11                                           0.0   \n",
       "14                                           0.0   \n",
       "...                                          ...   \n",
       "1025                                        90.3   \n",
       "1026                                       115.6   \n",
       "1027                                       108.6   \n",
       "1028                                         0.0   \n",
       "1029                                        78.3   \n",
       "\n",
       "      Water  (component 4)(kg in a m^3 mixture)  \\\n",
       "0                                         162.0   \n",
       "1                                         162.0   \n",
       "8                                         228.0   \n",
       "11                                        192.0   \n",
       "14                                        228.0   \n",
       "...                                         ...   \n",
       "1025                                      179.6   \n",
       "1026                                      196.0   \n",
       "1027                                      192.7   \n",
       "1028                                      175.6   \n",
       "1029                                      200.6   \n",
       "\n",
       "      Superplasticizer (component 5)(kg in a m^3 mixture)  \\\n",
       "0                                                   2.5     \n",
       "1                                                   2.5     \n",
       "8                                                   0.0     \n",
       "11                                                  0.0     \n",
       "14                                                  0.0     \n",
       "...                                                 ...     \n",
       "1025                                                8.9     \n",
       "1026                                               10.4     \n",
       "1027                                                6.1     \n",
       "1028                                               11.3     \n",
       "1029                                                8.6     \n",
       "\n",
       "      Coarse Aggregate  (component 6)(kg in a m^3 mixture)  \\\n",
       "0                                                1040.0      \n",
       "1                                                1055.0      \n",
       "8                                                 932.0      \n",
       "11                                                978.4      \n",
       "14                                                932.0      \n",
       "...                                                 ...      \n",
       "1025                                              870.1      \n",
       "1026                                              817.9      \n",
       "1027                                              892.4      \n",
       "1028                                              989.6      \n",
       "1029                                              864.5      \n",
       "\n",
       "      Fine Aggregate (component 7)(kg in a m^3 mixture)  Age (day)  \\\n",
       "0                                                 676.0         28   \n",
       "1                                                 676.0         28   \n",
       "8                                                 670.0         28   \n",
       "11                                                825.5         28   \n",
       "14                                                670.0         28   \n",
       "...                                                 ...        ...   \n",
       "1025                                              768.3         28   \n",
       "1026                                              813.4         28   \n",
       "1027                                              780.0         28   \n",
       "1028                                              788.9         28   \n",
       "1029                                              761.5         28   \n",
       "\n",
       "      Concrete compressive strength(MPa, megapascals)   \n",
       "0                                                79.99  \n",
       "1                                                61.89  \n",
       "8                                                45.85  \n",
       "11                                               28.02  \n",
       "14                                               47.81  \n",
       "...                                                ...  \n",
       "1025                                             44.28  \n",
       "1026                                             31.18  \n",
       "1027                                             23.70  \n",
       "1028                                             32.77  \n",
       "1029                                             32.40  \n",
       "\n",
       "[775 rows x 9 columns]"
      ]
     },
     "execution_count": 30,
     "metadata": {},
     "output_type": "execute_result"
    }
   ],
   "source": [
    "data2 = data.copy()\n",
    "data2"
   ]
  },
  {
   "cell_type": "markdown",
   "metadata": {},
   "source": [
    "## 9. Perform bi-variate analysis (be as creative as possible)\n",
    "    1. Try creating correlation matrices. See if there are variables which are strongly or weakly related.\n",
    "    2. If there are variables showing high correlation, what corrective action is needed? Why is this matter of concern? What if we do not treat the variables showing high degree of correlation?"
   ]
  },
  {
   "cell_type": "code",
   "execution_count": 101,
   "metadata": {},
   "outputs": [
    {
     "data": {
      "image/png": "[encoded data removed]",
      "text/plain": [
       "<Figure size 720x432 with 2 Axes>"
      ]
     },
     "metadata": {
      "needs_background": "light"
     },
     "output_type": "display_data"
    }
   ],
   "source": [
    "# correlation Metrics\n",
    "plt.figure(figsize=(10,6))\n",
    "sns.heatmap(data.corr(),annot=True)\n",
    "plt.show()"
   ]
  },
  {
   "cell_type": "code",
   "execution_count": 104,
   "metadata": {},
   "outputs": [
    {
     "data": {
      "text/html": [
       "<div>\n",
       "<style scoped>\n",
       "    .dataframe tbody tr th:only-of-type {\n",
       "        vertical-align: middle;\n",
       "    }\n",
       "\n",
       "    .dataframe tbody tr th {\n",
       "        vertical-align: top;\n",
       "    }\n",
       "\n",
       "    .dataframe thead th {\n",
       "        text-align: right;\n",
       "    }\n",
       "</style>\n",
       "<table border=\"1\" class=\"dataframe\">\n",
       "  <thead>\n",
       "    <tr style=\"text-align: right;\">\n",
       "      <th></th>\n",
       "      <th>Columns</th>\n",
       "      <th>VIF</th>\n",
       "    </tr>\n",
       "  </thead>\n",
       "  <tbody>\n",
       "    <tr>\n",
       "      <th>0</th>\n",
       "      <td>Cement (component 1)(kg in a m^3 mixture)</td>\n",
       "      <td>13.479540</td>\n",
       "    </tr>\n",
       "    <tr>\n",
       "      <th>1</th>\n",
       "      <td>Blast Furnace Slag (component 2)(kg in a m^3 m...</td>\n",
       "      <td>3.482023</td>\n",
       "    </tr>\n",
       "    <tr>\n",
       "      <th>2</th>\n",
       "      <td>Fly Ash (component 3)(kg in a m^3 mixture)</td>\n",
       "      <td>4.838343</td>\n",
       "    </tr>\n",
       "    <tr>\n",
       "      <th>3</th>\n",
       "      <td>Water  (component 4)(kg in a m^3 mixture)</td>\n",
       "      <td>102.086839</td>\n",
       "    </tr>\n",
       "    <tr>\n",
       "      <th>4</th>\n",
       "      <td>Superplasticizer (component 5)(kg in a m^3 mix...</td>\n",
       "      <td>6.290372</td>\n",
       "    </tr>\n",
       "    <tr>\n",
       "      <th>5</th>\n",
       "      <td>Coarse Aggregate  (component 6)(kg in a m^3 mi...</td>\n",
       "      <td>80.925558</td>\n",
       "    </tr>\n",
       "    <tr>\n",
       "      <th>6</th>\n",
       "      <td>Fine Aggregate (component 7)(kg in a m^3 mixture)</td>\n",
       "      <td>83.195653</td>\n",
       "    </tr>\n",
       "    <tr>\n",
       "      <th>7</th>\n",
       "      <td>Age (day)</td>\n",
       "      <td>3.425652</td>\n",
       "    </tr>\n",
       "  </tbody>\n",
       "</table>\n",
       "</div>"
      ],
      "text/plain": [
       "                                             Columns         VIF\n",
       "0          Cement (component 1)(kg in a m^3 mixture)   13.479540\n",
       "1  Blast Furnace Slag (component 2)(kg in a m^3 m...    3.482023\n",
       "2         Fly Ash (component 3)(kg in a m^3 mixture)    4.838343\n",
       "3          Water  (component 4)(kg in a m^3 mixture)  102.086839\n",
       "4  Superplasticizer (component 5)(kg in a m^3 mix...    6.290372\n",
       "5  Coarse Aggregate  (component 6)(kg in a m^3 mi...   80.925558\n",
       "6  Fine Aggregate (component 7)(kg in a m^3 mixture)   83.195653\n",
       "7                                          Age (day)    3.425652"
      ]
     },
     "execution_count": 104,
     "metadata": {},
     "output_type": "execute_result"
    }
   ],
   "source": [
    "## Varience Inflaction Method\n",
    "from statsmodels.stats.outliers_influence import variance_inflation_factor\n",
    "vif_data = pd.DataFrame()\n",
    "vif_data['Columns'] = X.columns\n",
    "vif_data['VIF'] = [variance_inflation_factor(X.values,i) for i in range(len(X.columns))]\n",
    "vif_data.sort_values('VIF',ascending=False)\n",
    "vif_data"
   ]
  },
  {
   "cell_type": "code",
   "execution_count": 105,
   "metadata": {},
   "outputs": [
    {
     "data": {
      "text/html": [
       "<div>\n",
       "<style scoped>\n",
       "    .dataframe tbody tr th:only-of-type {\n",
       "        vertical-align: middle;\n",
       "    }\n",
       "\n",
       "    .dataframe tbody tr th {\n",
       "        vertical-align: top;\n",
       "    }\n",
       "\n",
       "    .dataframe thead th {\n",
       "        text-align: right;\n",
       "    }\n",
       "</style>\n",
       "<table border=\"1\" class=\"dataframe\">\n",
       "  <thead>\n",
       "    <tr style=\"text-align: right;\">\n",
       "      <th></th>\n",
       "      <th>Columns</th>\n",
       "      <th>VIF</th>\n",
       "    </tr>\n",
       "  </thead>\n",
       "  <tbody>\n",
       "    <tr>\n",
       "      <th>3</th>\n",
       "      <td>Water  (component 4)(kg in a m^3 mixture)</td>\n",
       "      <td>102.086839</td>\n",
       "    </tr>\n",
       "    <tr>\n",
       "      <th>6</th>\n",
       "      <td>Fine Aggregate (component 7)(kg in a m^3 mixture)</td>\n",
       "      <td>83.195653</td>\n",
       "    </tr>\n",
       "    <tr>\n",
       "      <th>5</th>\n",
       "      <td>Coarse Aggregate  (component 6)(kg in a m^3 mi...</td>\n",
       "      <td>80.925558</td>\n",
       "    </tr>\n",
       "    <tr>\n",
       "      <th>0</th>\n",
       "      <td>Cement (component 1)(kg in a m^3 mixture)</td>\n",
       "      <td>13.479540</td>\n",
       "    </tr>\n",
       "  </tbody>\n",
       "</table>\n",
       "</div>"
      ],
      "text/plain": [
       "                                             Columns         VIF\n",
       "3          Water  (component 4)(kg in a m^3 mixture)  102.086839\n",
       "6  Fine Aggregate (component 7)(kg in a m^3 mixture)   83.195653\n",
       "5  Coarse Aggregate  (component 6)(kg in a m^3 mi...   80.925558\n",
       "0          Cement (component 1)(kg in a m^3 mixture)   13.479540"
      ]
     },
     "execution_count": 105,
     "metadata": {},
     "output_type": "execute_result"
    }
   ],
   "source": [
    "# Higher Mulitcolinerity Features :\n",
    "vif_data.sort_values('VIF',ascending=False).head(4)\n",
    "# We have to remove it and then try to create model."
   ]
  },
  {
   "cell_type": "code",
   "execution_count": 106,
   "metadata": {},
   "outputs": [],
   "source": [
    "# We have to drop Higher Multi colinerirty verible (Standred range is 0-10 max.)\n",
    "data.drop(['Fine Aggregate (component 7)(kg in a m^3 mixture)','Water  (component 4)(kg in a m^3 mixture)'\n",
    "           ,'Coarse Aggregate  (component 6)(kg in a m^3 mixture)','Cement (component 1)(kg in a m^3 mixture)'],axis=1,inplace=True)"
   ]
  },
  {
   "cell_type": "code",
   "execution_count": 107,
   "metadata": {},
   "outputs": [
    {
     "name": "stdout",
     "output_type": "stream",
     "text": [
      "Standred Scaller Base Model Accuarcy :  57.45733360637922 %\n",
      "Standred Scaller Base Model MSE :  124.71334457072122\n",
      "Standred Scaller Base Model MAE :  8.947841801941307\n"
     ]
    }
   ],
   "source": [
    "# Features and Target Selection \n",
    "X = data.iloc[:,:-1]\n",
    "y = data.iloc[:,-1]\n",
    "\n",
    "# Regression Technique\n",
    "X_train,X_test,y_train,y_test = train_test_split(X,y,test_size=0.20,random_state=31)\n",
    "linreg = LinearRegression()\n",
    "linreg.fit(X_train,y_train)\n",
    "y_pred = linreg.predict(X_test)\n",
    "print('Standred Scaller Base Model Accuarcy : ',r2_score(y_test,y_pred)*100,'%')\n",
    "print('Standred Scaller Base Model MSE : ',mean_squared_error(y_test,y_pred))\n",
    "print('Standred Scaller Base Model MAE : ',mean_absolute_error(y_test,y_pred))"
   ]
  },
  {
   "cell_type": "code",
   "execution_count": 108,
   "metadata": {},
   "outputs": [
    {
     "data": {
      "text/plain": [
       "{0: {'Model': 'Base 1st LinerRegression',\n",
       "  'R2': 0.5671278228053089,\n",
       "  'MSE': 100.32662082350035,\n",
       "  'MAE': 7.773955200633321,\n",
       "  'Description': 'Model performance without remove Outliers'},\n",
       " 1: {'Model': 'Base Model 2nd LinerRegression',\n",
       "  'R2': 0.8094287130445499,\n",
       "  'MSE': 55.86575687443193,\n",
       "  'MAE': 5.74740455898651,\n",
       "  'Description': 'Model performance removed Outliers'},\n",
       " 2: {'Model': 'Base Model 3rd LinerRegression',\n",
       "  'R2': 0.5745733360637922,\n",
       "  'MSE': 124.71334457072122,\n",
       "  'MAE': 8.947841801941307,\n",
       "  'Description': 'Model performance After complete the Features Selection like VIF and Corr.'}}"
      ]
     },
     "execution_count": 108,
     "metadata": {},
     "output_type": "execute_result"
    }
   ],
   "source": [
    "# Project Summary : Base Model 3rd \n",
    "project_summary[2] = {}\n",
    "project_summary[2]['Model'] = 'Base Model 3rd LinerRegression'\n",
    "project_summary[2]['R2'] = r2_score(y_test,y_pred)\n",
    "project_summary[2]['MSE'] = mean_squared_error(y_test,y_pred)\n",
    "project_summary[2]['MAE'] = mean_absolute_error(y_test,y_pred)\n",
    "project_summary[2]['Description'] = 'Model performance After complete the Features Selection like VIF and Corr.'\n",
    "\n",
    "\n",
    "project_summary"
   ]
  },
  {
   "cell_type": "code",
   "execution_count": 109,
   "metadata": {},
   "outputs": [
    {
     "name": "stdout",
     "output_type": "stream",
     "text": [
      "Standred Scaller Base Model Accuarcy :  57.45733360637922 %\n",
      "Standred Scaller Base Model MSE :  124.71334457072122\n",
      "Standred Scaller Base Model MAE :  8.947841801941307\n"
     ]
    }
   ],
   "source": [
    "### Scalling Technique : Standred Scaller Technique\n",
    "from sklearn.preprocessing import StandardScaler\n",
    "ss = StandardScaler()\n",
    "\n",
    "# Features and Target Selection \n",
    "X = data.iloc[:,:-1]\n",
    "y = data.iloc[:,-1]\n",
    "\n",
    "# Fit features with Standred sScalling \n",
    "X = ss.fit_transform(X)\n",
    "\n",
    "# Regression Technique\n",
    "X_train,X_test,y_train,y_test = train_test_split(X,y,test_size=0.20,random_state=31)\n",
    "linreg = LinearRegression()\n",
    "linreg.fit(X_train,y_train)\n",
    "y_pred = linreg.predict(X_test)\n",
    "print('Standred Scaller Base Model Accuarcy : ',r2_score(y_test,y_pred)*100,'%')\n",
    "print('Standred Scaller Base Model MSE : ',mean_squared_error(y_test,y_pred))\n",
    "print('Standred Scaller Base Model MAE : ',mean_absolute_error(y_test,y_pred))"
   ]
  },
  {
   "cell_type": "markdown",
   "metadata": {},
   "source": [
    "## Scalling Technique\n",
    "    1. Standred Scaller\n",
    "    2. Normalized Scaller\n",
    "    3. Robust Scaller"
   ]
  },
  {
   "cell_type": "code",
   "execution_count": 110,
   "metadata": {},
   "outputs": [
    {
     "name": "stdout",
     "output_type": "stream",
     "text": [
      "Normalization Scaller Base Model Accuarcy :  54.7215816465757 %\n",
      "Normalization Scaller Base Model MSE :  120.54359507294163\n",
      "Normalization Scaller Base Model MAE :  8.481358114178636\n"
     ]
    }
   ],
   "source": [
    "### Scalling Technique : Standred Scaller Technique\n",
    "from sklearn.preprocessing import MinMaxScaler\n",
    "Norm = MinMaxScaler()\n",
    "\n",
    "# Features and Target Selection \n",
    "X = data.iloc[:,:-1]\n",
    "y = data.iloc[:,-1]\n",
    "\n",
    "# Fit features with Standred sScalling \n",
    "X = Norm.fit_transform(X)\n",
    "\n",
    "# Regression Technique\n",
    "X_train,X_test,y_train,y_test = train_test_split(X,y,test_size=0.20,random_state=40)\n",
    "linreg = LinearRegression()\n",
    "linreg.fit(X_train,y_train)\n",
    "y_pred = linreg.predict(X_test)\n",
    "print('Normalization Scaller Base Model Accuarcy : ',r2_score(y_test,y_pred)*100,'%')\n",
    "print('Normalization Scaller Base Model MSE : ',mean_squared_error(y_test,y_pred))\n",
    "print('Normalization Scaller Base Model MAE : ',mean_absolute_error(y_test,y_pred))"
   ]
  },
  {
   "cell_type": "code",
   "execution_count": 112,
   "metadata": {},
   "outputs": [
    {
     "name": "stdout",
     "output_type": "stream",
     "text": [
      "Robust Scaller Base Model Accuarcy :  54.7215816465757 %\n",
      "Robust Scaller Base Model MSE :  120.54359507294166\n",
      "Robust Scaller Base Model MAE :  8.481358114178638\n"
     ]
    }
   ],
   "source": [
    "### Scalling Technique : Robust Scaller Technique\n",
    "from sklearn.preprocessing import RobustScaler\n",
    "rob = RobustScaler()\n",
    "\n",
    "# Features and Target Selection \n",
    "X = data.iloc[:,:-1]\n",
    "y = data.iloc[:,-1]\n",
    "\n",
    "# Fit features with Standred sScalling \n",
    "X = rob.fit_transform(X)\n",
    "\n",
    "X_train,X_test,y_train,y_test = train_test_split(X,y,test_size=0.20,random_state=40)\n",
    "linreg = LinearRegression()\n",
    "linreg.fit(X_train,y_train)\n",
    "y_pred = linreg.predict(X_test)\n",
    "print('Robust Scaller Base Model Accuarcy : ',r2_score(y_test,y_pred)*100,'%')\n",
    "print('Robust Scaller Base Model MSE : ',mean_squared_error(y_test,y_pred))\n",
    "print('Robust Scaller Base Model MAE : ',mean_absolute_error(y_test,y_pred))"
   ]
  },
  {
   "cell_type": "code",
   "execution_count": 113,
   "metadata": {},
   "outputs": [
    {
     "data": {
      "text/html": [
       "<div>\n",
       "<style scoped>\n",
       "    .dataframe tbody tr th:only-of-type {\n",
       "        vertical-align: middle;\n",
       "    }\n",
       "\n",
       "    .dataframe tbody tr th {\n",
       "        vertical-align: top;\n",
       "    }\n",
       "\n",
       "    .dataframe thead th {\n",
       "        text-align: right;\n",
       "    }\n",
       "</style>\n",
       "<table border=\"1\" class=\"dataframe\">\n",
       "  <thead>\n",
       "    <tr style=\"text-align: right;\">\n",
       "      <th></th>\n",
       "      <th>Blast Furnace Slag (component 2)(kg in a m^3 mixture)</th>\n",
       "      <th>Fly Ash (component 3)(kg in a m^3 mixture)</th>\n",
       "      <th>Superplasticizer (component 5)(kg in a m^3 mixture)</th>\n",
       "      <th>Age (day)</th>\n",
       "      <th>Concrete compressive strength(MPa, megapascals)</th>\n",
       "    </tr>\n",
       "  </thead>\n",
       "  <tbody>\n",
       "    <tr>\n",
       "      <th>0</th>\n",
       "      <td>0.0</td>\n",
       "      <td>0.0</td>\n",
       "      <td>2.5</td>\n",
       "      <td>28</td>\n",
       "      <td>79.99</td>\n",
       "    </tr>\n",
       "    <tr>\n",
       "      <th>1</th>\n",
       "      <td>0.0</td>\n",
       "      <td>0.0</td>\n",
       "      <td>2.5</td>\n",
       "      <td>28</td>\n",
       "      <td>61.89</td>\n",
       "    </tr>\n",
       "  </tbody>\n",
       "</table>\n",
       "</div>"
      ],
      "text/plain": [
       "   Blast Furnace Slag (component 2)(kg in a m^3 mixture)  \\\n",
       "0                                                0.0       \n",
       "1                                                0.0       \n",
       "\n",
       "   Fly Ash (component 3)(kg in a m^3 mixture)  \\\n",
       "0                                         0.0   \n",
       "1                                         0.0   \n",
       "\n",
       "   Superplasticizer (component 5)(kg in a m^3 mixture)  Age (day)  \\\n",
       "0                                                2.5           28   \n",
       "1                                                2.5           28   \n",
       "\n",
       "   Concrete compressive strength(MPa, megapascals)   \n",
       "0                                             79.99  \n",
       "1                                             61.89  "
      ]
     },
     "execution_count": 113,
     "metadata": {},
     "output_type": "execute_result"
    }
   ],
   "source": [
    "data.head(2)"
   ]
  },
  {
   "cell_type": "markdown",
   "metadata": {},
   "source": [
    "#### we have to check and apply some Regularization because we want to reduce MSE.\n",
    "    1. Lasso Regression (L1)\n",
    "    2. Ridge Regression (L2)"
   ]
  },
  {
   "cell_type": "code",
   "execution_count": 171,
   "metadata": {},
   "outputs": [
    {
     "name": "stdout",
     "output_type": "stream",
     "text": [
      "Lasso (L1) Regularization Technique : Mean Squared Error :  44.7702008484475\n",
      "Lasso (L1) Regularization Technique : R2 square :  80.85208846187241 %\n",
      "Lasso (L1) Regularization Technique : Mean Squared Error :  4477.02008484475 %\n",
      "Lasso (L1) Regularization Technique : Mean Absolute Error :  527.177685755047 %\n"
     ]
    },
    {
     "data": {
      "text/plain": [
       "{'Model': 'Lasso Regularization',\n",
       " 'R2': 0.8085208846187241,\n",
       " 'MSE': 44.7702008484475,\n",
       " 'MAE': 44.7702008484475,\n",
       " 'Description': 'Lasso Regularization Technique, we are getting Min Accuracy'}"
      ]
     },
     "execution_count": 171,
     "metadata": {},
     "output_type": "execute_result"
    }
   ],
   "source": [
    "# Features selection\n",
    "X = data2.iloc[:,:-1]\n",
    "y = data2.iloc[:,-1]\n",
    "\n",
    "# Split and Fit model\n",
    "X_train,X_test,y_train,y_test = train_test_split(X,y,test_size=0.25,random_state=41)\n",
    "\n",
    "# Lasso Regularization\n",
    "from sklearn import linear_model\n",
    "lasso_reg = linear_model.Lasso(alpha=0.1,max_iter=100,tol=0.1)\n",
    "lasso_reg.fit(X_train,y_train)\n",
    "y_pred = lasso_reg.predict(X_test)\n",
    "print('Lasso (L1) Regularization Technique : Mean Squared Error : ',np.mean((y_pred - y_test)**2))\n",
    "print('Lasso (L1) Regularization Technique : R2 square : ',r2_score(y_test,y_pred)*100,'%')\n",
    "print('Lasso (L1) Regularization Technique : Mean Squared Error : ',mean_squared_error(y_test,y_pred)*100,'%')\n",
    "print('Lasso (L1) Regularization Technique : Mean Absolute Error : ',mean_absolute_error(y_test,y_pred)*100,'%')\n",
    "\n",
    "\n",
    "MSE = []\n",
    "MAE = []\n",
    "R2 = []\n",
    "for i in range(100):\n",
    "    # Lasso Regularization\n",
    "    i = i/100\n",
    "    lasso_reg = linear_model.Lasso(alpha=i,max_iter=100,tol=0.1)\n",
    "    lasso_reg.fit(X_train,y_train)\n",
    "    #print('Lasso (L1) Regularization Technique : Score '+str(i)+': ',np.mean((y_pred - y_test)**2))\n",
    "    MSE.append(np.mean((y_pred - y_test)**2))\n",
    "    MAE.append(mean_squared_error(y_test,y_pred))\n",
    "    R2.append(r2_score(y_test,y_pred))\n",
    "    \n",
    "m_MSE = min(MSE)\n",
    "m_MAE = min(MAE)\n",
    "m_R2 = min(R2)\n",
    "\n",
    "# Project Summary : Lasso Regularization \n",
    "project_summary[3] = {}\n",
    "project_summary[3]['Model'] = 'Lasso Regularization'\n",
    "project_summary[3]['R2'] = m_R2\n",
    "project_summary[3]['MSE'] = m_MSE\n",
    "project_summary[3]['MAE'] = m_MAE\n",
    "project_summary[3]['Description'] = 'Lasso Regularization Technique, we are getting Min Accuracy'\n",
    "\n",
    "\n",
    "project_summary[3]"
   ]
  },
  {
   "cell_type": "code",
   "execution_count": 115,
   "metadata": {},
   "outputs": [
    {
     "name": "stdout",
     "output_type": "stream",
     "text": [
      "Ridge (L2) Regularization Technique : Score :  46.877461843301894\n"
     ]
    },
    {
     "data": {
      "text/plain": [
       "{'Model': 'Ridge Regularization',\n",
       " 'R2': 0.7995080670425359,\n",
       " 'MSE': 46.87745645566268,\n",
       " 'MAE': 46.877456455662696,\n",
       " 'Description': 'Ridge Regularization Technique, we are getting Min Accuracy'}"
      ]
     },
     "execution_count": 115,
     "metadata": {},
     "output_type": "execute_result"
    }
   ],
   "source": [
    "# Ridge Regularization\n",
    "from sklearn import linear_model\n",
    "ridge_reg = linear_model.Ridge(alpha=0.1,max_iter=100,tol=0.1)\n",
    "ridge_reg.fit(X_train,y_train)\n",
    "y_pred = ridge_reg.predict(X_test)\n",
    "print('Ridge (L2) Regularization Technique : Score : ',np.mean((y_test - y_pred)**2))\n",
    "\n",
    "MSE = []\n",
    "MAE = []\n",
    "R2 = []\n",
    "\n",
    "for i in range(100):\n",
    "    # Ridge Regularization\n",
    "    i = i/100\n",
    "    ridge_reg = linear_model.Ridge(alpha=i,max_iter=100,tol=0.1)\n",
    "    ridge_reg.fit(X_train,y_train)\n",
    "    y_pred = ridge_reg.predict(X_test)\n",
    "    #print('Ridge (L2) Regularization Technique : MSE : '+str(i)+'',np.mean((y_test - y_pred)**2))\n",
    "    MSE.append(np.mean((y_test - y_pred)**2))\n",
    "    MAE.append(mean_squared_error(y_test,y_pred))\n",
    "    R2.append(r2_score(y_test,y_pred))\n",
    "    \n",
    "m_MSE = min(MSE)\n",
    "m_MAE = min(MAE)\n",
    "m_R2 = min(R2)\n",
    "\n",
    "# Project Summary : Ridge Regularization \n",
    "project_summary[4] = {}\n",
    "project_summary[4]['Model'] = 'Ridge Regularization'\n",
    "project_summary[4]['R2'] = m_R2\n",
    "project_summary[4]['MSE'] = m_MSE\n",
    "project_summary[4]['MAE'] = m_MAE\n",
    "project_summary[4]['Description'] = 'Ridge Regularization Technique, we are getting Min Accuracy'\n",
    "\n",
    "\n",
    "project_summary[4]"
   ]
  },
  {
   "cell_type": "markdown",
   "metadata": {},
   "source": [
    "### Cross Validation Score "
   ]
  },
  {
   "cell_type": "code",
   "execution_count": 116,
   "metadata": {},
   "outputs": [
    {
     "name": "stdout",
     "output_type": "stream",
     "text": [
      "Cross Validation score is : [0.75682884 0.88043827 0.79574376 0.7470612  0.73395554 0.76614195\n",
      " 0.76454512 0.79457748 0.84690639 0.8128192 ]\n",
      "\n",
      "Cross Validation Score is :  0.7899017732292991\n"
     ]
    }
   ],
   "source": [
    "# Features selection \n",
    "X = data2.iloc[:,:-1]\n",
    "y = data2.iloc[:,-1]\n",
    "\n",
    "# Split and Fit model\n",
    "X_train,X_test,y_train,y_test = train_test_split(X,y,test_size=0.20,random_state=42)\n",
    "\n",
    "#### cross Validation\n",
    "from sklearn.model_selection import cross_val_score\n",
    "lm = LinearRegression()\n",
    "score = cross_val_score(lm,X_train,y_train,scoring='r2',cv=10)\n",
    "print('Cross Validation score is :', score)\n",
    "print(\"\\nCross Validation Score is : \",np.mean(score))"
   ]
  },
  {
   "cell_type": "code",
   "execution_count": 117,
   "metadata": {},
   "outputs": [],
   "source": [
    "data2 = data2.rename(columns={'Cement (component 1)(kg in a m^3 mixture)':'Features1',\n",
    "            'Blast Furnace Slag (component 2)(kg in a m^3 mixture)':'Features2',\n",
    "            'Fly Ash (component 3)(kg in a m^3 mixture)':'Features3',\n",
    "            'Water  (component 4)(kg in a m^3 mixture)':'Features4',\n",
    "            'Superplasticizer (component 5)(kg in a m^3 mixture)':'Features5',\n",
    "            'Coarse Aggregate  (component 6)(kg in a m^3 mixture)':'Features6',\n",
    "            'Fine Aggregate (component 7)(kg in a m^3 mixture)':'Features7',\n",
    "            'Age (day)':'Features8','Concrete compressive strength(MPa, megapascals) ':'Target'})"
   ]
  },
  {
   "cell_type": "code",
   "execution_count": 118,
   "metadata": {},
   "outputs": [
    {
     "data": {
      "text/html": [
       "<table class=\"simpletable\">\n",
       "<caption>OLS Regression Results</caption>\n",
       "<tr>\n",
       "  <th>Dep. Variable:</th>         <td>Target</td>      <th>  R-squared:         </th> <td>   0.810</td> \n",
       "</tr>\n",
       "<tr>\n",
       "  <th>Model:</th>                   <td>OLS</td>       <th>  Adj. R-squared:    </th> <td>   0.808</td> \n",
       "</tr>\n",
       "<tr>\n",
       "  <th>Method:</th>             <td>Least Squares</td>  <th>  F-statistic:       </th> <td>   407.8</td> \n",
       "</tr>\n",
       "<tr>\n",
       "  <th>Date:</th>             <td>Sat, 21 Aug 2021</td> <th>  Prob (F-statistic):</th> <td>3.88e-270</td>\n",
       "</tr>\n",
       "<tr>\n",
       "  <th>Time:</th>                 <td>22:11:53</td>     <th>  Log-Likelihood:    </th> <td> -2627.3</td> \n",
       "</tr>\n",
       "<tr>\n",
       "  <th>No. Observations:</th>      <td>   775</td>      <th>  AIC:               </th> <td>   5273.</td> \n",
       "</tr>\n",
       "<tr>\n",
       "  <th>Df Residuals:</th>          <td>   766</td>      <th>  BIC:               </th> <td>   5314.</td> \n",
       "</tr>\n",
       "<tr>\n",
       "  <th>Df Model:</th>              <td>     8</td>      <th>                     </th>     <td> </td>    \n",
       "</tr>\n",
       "<tr>\n",
       "  <th>Covariance Type:</th>      <td>nonrobust</td>    <th>                     </th>     <td> </td>    \n",
       "</tr>\n",
       "</table>\n",
       "<table class=\"simpletable\">\n",
       "<tr>\n",
       "      <td></td>         <th>coef</th>     <th>std err</th>      <th>t</th>      <th>P>|t|</th>  <th>[0.025</th>    <th>0.975]</th>  \n",
       "</tr>\n",
       "<tr>\n",
       "  <th>Intercept</th> <td>   12.1467</td> <td>   22.106</td> <td>    0.549</td> <td> 0.583</td> <td>  -31.249</td> <td>   55.543</td>\n",
       "</tr>\n",
       "<tr>\n",
       "  <th>Features1</th> <td>    0.1120</td> <td>    0.007</td> <td>   16.098</td> <td> 0.000</td> <td>    0.098</td> <td>    0.126</td>\n",
       "</tr>\n",
       "<tr>\n",
       "  <th>Features2</th> <td>    0.0843</td> <td>    0.008</td> <td>   10.185</td> <td> 0.000</td> <td>    0.068</td> <td>    0.101</td>\n",
       "</tr>\n",
       "<tr>\n",
       "  <th>Features3</th> <td>    0.0484</td> <td>    0.010</td> <td>    4.761</td> <td> 0.000</td> <td>    0.028</td> <td>    0.068</td>\n",
       "</tr>\n",
       "<tr>\n",
       "  <th>Features4</th> <td>   -0.2202</td> <td>    0.034</td> <td>   -6.462</td> <td> 0.000</td> <td>   -0.287</td> <td>   -0.153</td>\n",
       "</tr>\n",
       "<tr>\n",
       "  <th>Features5</th> <td>    0.0860</td> <td>    0.083</td> <td>    1.032</td> <td> 0.302</td> <td>   -0.078</td> <td>    0.250</td>\n",
       "</tr>\n",
       "<tr>\n",
       "  <th>Features6</th> <td>    0.0036</td> <td>    0.008</td> <td>    0.459</td> <td> 0.647</td> <td>   -0.012</td> <td>    0.019</td>\n",
       "</tr>\n",
       "<tr>\n",
       "  <th>Features7</th> <td>    0.0044</td> <td>    0.009</td> <td>    0.501</td> <td> 0.616</td> <td>   -0.013</td> <td>    0.022</td>\n",
       "</tr>\n",
       "<tr>\n",
       "  <th>Features8</th> <td>    0.5690</td> <td>    0.017</td> <td>   32.753</td> <td> 0.000</td> <td>    0.535</td> <td>    0.603</td>\n",
       "</tr>\n",
       "</table>\n",
       "<table class=\"simpletable\">\n",
       "<tr>\n",
       "  <th>Omnibus:</th>       <td>32.159</td> <th>  Durbin-Watson:     </th> <td>   1.294</td>\n",
       "</tr>\n",
       "<tr>\n",
       "  <th>Prob(Omnibus):</th> <td> 0.000</td> <th>  Jarque-Bera (JB):  </th> <td>  45.667</td>\n",
       "</tr>\n",
       "<tr>\n",
       "  <th>Skew:</th>          <td> 0.372</td> <th>  Prob(JB):          </th> <td>1.21e-10</td>\n",
       "</tr>\n",
       "<tr>\n",
       "  <th>Kurtosis:</th>      <td> 3.927</td> <th>  Cond. No.          </th> <td>1.10e+05</td>\n",
       "</tr>\n",
       "</table><br/><br/>Notes:<br/>[1] Standard Errors assume that the covariance matrix of the errors is correctly specified.<br/>[2] The condition number is large, 1.1e+05. This might indicate that there are<br/>strong multicollinearity or other numerical problems."
      ],
      "text/plain": [
       "<class 'statsmodels.iolib.summary.Summary'>\n",
       "\"\"\"\n",
       "                            OLS Regression Results                            \n",
       "==============================================================================\n",
       "Dep. Variable:                 Target   R-squared:                       0.810\n",
       "Model:                            OLS   Adj. R-squared:                  0.808\n",
       "Method:                 Least Squares   F-statistic:                     407.8\n",
       "Date:                Sat, 21 Aug 2021   Prob (F-statistic):          3.88e-270\n",
       "Time:                        22:11:53   Log-Likelihood:                -2627.3\n",
       "No. Observations:                 775   AIC:                             5273.\n",
       "Df Residuals:                     766   BIC:                             5314.\n",
       "Df Model:                           8                                         \n",
       "Covariance Type:            nonrobust                                         \n",
       "==============================================================================\n",
       "                 coef    std err          t      P>|t|      [0.025      0.975]\n",
       "------------------------------------------------------------------------------\n",
       "Intercept     12.1467     22.106      0.549      0.583     -31.249      55.543\n",
       "Features1      0.1120      0.007     16.098      0.000       0.098       0.126\n",
       "Features2      0.0843      0.008     10.185      0.000       0.068       0.101\n",
       "Features3      0.0484      0.010      4.761      0.000       0.028       0.068\n",
       "Features4     -0.2202      0.034     -6.462      0.000      -0.287      -0.153\n",
       "Features5      0.0860      0.083      1.032      0.302      -0.078       0.250\n",
       "Features6      0.0036      0.008      0.459      0.647      -0.012       0.019\n",
       "Features7      0.0044      0.009      0.501      0.616      -0.013       0.022\n",
       "Features8      0.5690      0.017     32.753      0.000       0.535       0.603\n",
       "==============================================================================\n",
       "Omnibus:                       32.159   Durbin-Watson:                   1.294\n",
       "Prob(Omnibus):                  0.000   Jarque-Bera (JB):               45.667\n",
       "Skew:                           0.372   Prob(JB):                     1.21e-10\n",
       "Kurtosis:                       3.927   Cond. No.                     1.10e+05\n",
       "==============================================================================\n",
       "\n",
       "Notes:\n",
       "[1] Standard Errors assume that the covariance matrix of the errors is correctly specified.\n",
       "[2] The condition number is large, 1.1e+05. This might indicate that there are\n",
       "strong multicollinearity or other numerical problems.\n",
       "\"\"\""
      ]
     },
     "execution_count": 118,
     "metadata": {},
     "output_type": "execute_result"
    }
   ],
   "source": [
    "### Ordinary Least Square Error (OLS model for the Features elimination)\n",
    "import statsmodels.api as sm\n",
    "import statsmodels.formula.api as smf\n",
    "\n",
    "olsmodel = smf.ols(formula='Target~Features1+Features2+Features3+Features4+Features5+Features6+Features7+Features8',data=data2).fit()\n",
    "olsmodel.summary()"
   ]
  },
  {
   "cell_type": "code",
   "execution_count": 119,
   "metadata": {},
   "outputs": [
    {
     "data": {
      "text/html": [
       "<table class=\"simpletable\">\n",
       "<caption>OLS Regression Results</caption>\n",
       "<tr>\n",
       "  <th>Dep. Variable:</th>         <td>Target</td>      <th>  R-squared:         </th> <td>   0.810</td> \n",
       "</tr>\n",
       "<tr>\n",
       "  <th>Model:</th>                   <td>OLS</td>       <th>  Adj. R-squared:    </th> <td>   0.808</td> \n",
       "</tr>\n",
       "<tr>\n",
       "  <th>Method:</th>             <td>Least Squares</td>  <th>  F-statistic:       </th> <td>   653.8</td> \n",
       "</tr>\n",
       "<tr>\n",
       "  <th>Date:</th>             <td>Sat, 21 Aug 2021</td> <th>  Prob (F-statistic):</th> <td>4.88e-274</td>\n",
       "</tr>\n",
       "<tr>\n",
       "  <th>Time:</th>                 <td>22:11:56</td>     <th>  Log-Likelihood:    </th> <td> -2627.9</td> \n",
       "</tr>\n",
       "<tr>\n",
       "  <th>No. Observations:</th>      <td>   775</td>      <th>  AIC:               </th> <td>   5268.</td> \n",
       "</tr>\n",
       "<tr>\n",
       "  <th>Df Residuals:</th>          <td>   769</td>      <th>  BIC:               </th> <td>   5296.</td> \n",
       "</tr>\n",
       "<tr>\n",
       "  <th>Df Model:</th>              <td>     5</td>      <th>                     </th>     <td> </td>    \n",
       "</tr>\n",
       "<tr>\n",
       "  <th>Covariance Type:</th>      <td>nonrobust</td>    <th>                     </th>     <td> </td>    \n",
       "</tr>\n",
       "</table>\n",
       "<table class=\"simpletable\">\n",
       "<tr>\n",
       "      <td></td>         <th>coef</th>     <th>std err</th>      <th>t</th>      <th>P>|t|</th>  <th>[0.025</th>    <th>0.975]</th>  \n",
       "</tr>\n",
       "<tr>\n",
       "  <th>Intercept</th> <td>   24.7585</td> <td>    3.406</td> <td>    7.269</td> <td> 0.000</td> <td>   18.072</td> <td>   31.445</td>\n",
       "</tr>\n",
       "<tr>\n",
       "  <th>Features1</th> <td>    0.1101</td> <td>    0.003</td> <td>   33.956</td> <td> 0.000</td> <td>    0.104</td> <td>    0.117</td>\n",
       "</tr>\n",
       "<tr>\n",
       "  <th>Features2</th> <td>    0.0824</td> <td>    0.004</td> <td>   22.770</td> <td> 0.000</td> <td>    0.075</td> <td>    0.089</td>\n",
       "</tr>\n",
       "<tr>\n",
       "  <th>Features3</th> <td>    0.0479</td> <td>    0.005</td> <td>    9.130</td> <td> 0.000</td> <td>    0.038</td> <td>    0.058</td>\n",
       "</tr>\n",
       "<tr>\n",
       "  <th>Features4</th> <td>   -0.2448</td> <td>    0.016</td> <td>  -15.575</td> <td> 0.000</td> <td>   -0.276</td> <td>   -0.214</td>\n",
       "</tr>\n",
       "<tr>\n",
       "  <th>Features8</th> <td>    0.5711</td> <td>    0.017</td> <td>   33.253</td> <td> 0.000</td> <td>    0.537</td> <td>    0.605</td>\n",
       "</tr>\n",
       "</table>\n",
       "<table class=\"simpletable\">\n",
       "<tr>\n",
       "  <th>Omnibus:</th>       <td>30.660</td> <th>  Durbin-Watson:     </th> <td>   1.300</td>\n",
       "</tr>\n",
       "<tr>\n",
       "  <th>Prob(Omnibus):</th> <td> 0.000</td> <th>  Jarque-Bera (JB):  </th> <td>  42.752</td>\n",
       "</tr>\n",
       "<tr>\n",
       "  <th>Skew:</th>          <td> 0.364</td> <th>  Prob(JB):          </th> <td>5.21e-10</td>\n",
       "</tr>\n",
       "<tr>\n",
       "  <th>Kurtosis:</th>      <td> 3.890</td> <th>  Cond. No.          </th> <td>4.57e+03</td>\n",
       "</tr>\n",
       "</table><br/><br/>Notes:<br/>[1] Standard Errors assume that the covariance matrix of the errors is correctly specified.<br/>[2] The condition number is large, 4.57e+03. This might indicate that there are<br/>strong multicollinearity or other numerical problems."
      ],
      "text/plain": [
       "<class 'statsmodels.iolib.summary.Summary'>\n",
       "\"\"\"\n",
       "                            OLS Regression Results                            \n",
       "==============================================================================\n",
       "Dep. Variable:                 Target   R-squared:                       0.810\n",
       "Model:                            OLS   Adj. R-squared:                  0.808\n",
       "Method:                 Least Squares   F-statistic:                     653.8\n",
       "Date:                Sat, 21 Aug 2021   Prob (F-statistic):          4.88e-274\n",
       "Time:                        22:11:56   Log-Likelihood:                -2627.9\n",
       "No. Observations:                 775   AIC:                             5268.\n",
       "Df Residuals:                     769   BIC:                             5296.\n",
       "Df Model:                           5                                         \n",
       "Covariance Type:            nonrobust                                         \n",
       "==============================================================================\n",
       "                 coef    std err          t      P>|t|      [0.025      0.975]\n",
       "------------------------------------------------------------------------------\n",
       "Intercept     24.7585      3.406      7.269      0.000      18.072      31.445\n",
       "Features1      0.1101      0.003     33.956      0.000       0.104       0.117\n",
       "Features2      0.0824      0.004     22.770      0.000       0.075       0.089\n",
       "Features3      0.0479      0.005      9.130      0.000       0.038       0.058\n",
       "Features4     -0.2448      0.016    -15.575      0.000      -0.276      -0.214\n",
       "Features8      0.5711      0.017     33.253      0.000       0.537       0.605\n",
       "==============================================================================\n",
       "Omnibus:                       30.660   Durbin-Watson:                   1.300\n",
       "Prob(Omnibus):                  0.000   Jarque-Bera (JB):               42.752\n",
       "Skew:                           0.364   Prob(JB):                     5.21e-10\n",
       "Kurtosis:                       3.890   Cond. No.                     4.57e+03\n",
       "==============================================================================\n",
       "\n",
       "Notes:\n",
       "[1] Standard Errors assume that the covariance matrix of the errors is correctly specified.\n",
       "[2] The condition number is large, 4.57e+03. This might indicate that there are\n",
       "strong multicollinearity or other numerical problems.\n",
       "\"\"\""
      ]
     },
     "execution_count": 119,
     "metadata": {},
     "output_type": "execute_result"
    }
   ],
   "source": [
    "olsmodel = smf.ols(formula='Target~Features1+Features2+Features3+Features4+Features8',data=data2).fit()\n",
    "olsmodel.summary()"
   ]
  },
  {
   "cell_type": "code",
   "execution_count": 120,
   "metadata": {},
   "outputs": [
    {
     "name": "stdout",
     "output_type": "stream",
     "text": [
      "Standred Scaller Base Model Accuarcy :  57.4330721469426 %\n",
      "Standred Scaller Base Model MSE :  119.78933184982208\n",
      "Standred Scaller Base Model MAE :  8.48711046947127\n"
     ]
    }
   ],
   "source": [
    "# Features and Target Selection \n",
    "X = data2[['Features1','Features2','Features3','Features4','Features5']]\n",
    "y = data2['Target']\n",
    "\n",
    "# Regression Technique\n",
    "X_train,X_test,y_train,y_test = train_test_split(X,y,test_size=0.20,random_state=31)\n",
    "linreg = LinearRegression()\n",
    "linreg.fit(X_train,y_train)\n",
    "y_pred = linreg.predict(X_test)\n",
    "print('Standred Scaller Base Model Accuarcy : ',r2_score(y_test,y_pred)*100,'%')\n",
    "print('Standred Scaller Base Model MSE : ',mean_squared_error(y_test,y_pred))\n",
    "print('Standred Scaller Base Model MAE : ',mean_absolute_error(y_test,y_pred))\n",
    "\n",
    "multi_R2 = r2_score(y_test,y_pred)\n",
    "multi_MAE = mean_squared_error(y_test,y_pred)\n",
    "multi_MSE = mean_absolute_error(y_test,y_pred)"
   ]
  },
  {
   "cell_type": "code",
   "execution_count": 121,
   "metadata": {},
   "outputs": [
    {
     "data": {
      "text/plain": [
       "{'Model': 'Remove Multicolinerity',\n",
       " 'R2': 0.574330721469426,\n",
       " 'MSE': 119.78933184982208,\n",
       " 'MAE': 8.48711046947127,\n",
       " 'Description': 'After remove all Multicolinerity features using OLS method aplha is greater than to the 0.05 signnificance values'}"
      ]
     },
     "execution_count": 121,
     "metadata": {},
     "output_type": "execute_result"
    }
   ],
   "source": [
    "# Project Summary : Remove all Multicolinearity Variable Regularization \n",
    "project_summary[5] = {}\n",
    "project_summary[5]['Model'] = 'Remove Multicolinerity'\n",
    "project_summary[5]['R2'] = multi_R2\n",
    "project_summary[5]['MSE'] = multi_MAE\n",
    "project_summary[5]['MAE'] = multi_MSE\n",
    "project_summary[5]['Description'] = 'After remove all Multicolinerity features using OLS method aplha is greater than to the 0.05 signnificance values'\n",
    "\n",
    "project_summary[5]"
   ]
  },
  {
   "cell_type": "markdown",
   "metadata": {},
   "source": [
    "#### 10. What is the type of machine learning problem at hand? (Supervised or Unsupervised?) Why?\n",
    "    1. Supervised Learning\n",
    "        Regression : \n",
    "        Target Veriable : Continous Variable\n",
    "        Supervised learning, as the name indicates, has the presence of a supervisor as a teacher. Basically supervised learning is when we teach or train the machine using data that is well labeled. Which means some data is already tagged with the correct answer. After that, the machine is provided with a new set of examples(data) so that the supervised learning algorithm analyses the training data(set of training examples) and produces a correct outcome from labeled data. \n",
    "        \n",
    "        Classification :\n",
    "        Target Veriable : Yes/No\n",
    "        A classification problem is when the output variable is a category, such as “Red” or “blue” or “disease” and “no disease”.\n",
    "        \n",
    "    2. Unsupervised Learning\n",
    "        unsupervised learning is the training of a machine using information that is neither classified nor labeled and allowing the algorithm to act on that information without guidance.\n",
    "            "
   ]
  },
  {
   "cell_type": "code",
   "execution_count": 49,
   "metadata": {},
   "outputs": [],
   "source": [
    "### 11. What is the category of the machine learning problem at hand? (Classification or Regression?) Why ??"
   ]
  },
  {
   "cell_type": "code",
   "execution_count": 122,
   "metadata": {},
   "outputs": [
    {
     "data": {
      "text/html": [
       "<div>\n",
       "<style scoped>\n",
       "    .dataframe tbody tr th:only-of-type {\n",
       "        vertical-align: middle;\n",
       "    }\n",
       "\n",
       "    .dataframe tbody tr th {\n",
       "        vertical-align: top;\n",
       "    }\n",
       "\n",
       "    .dataframe thead th {\n",
       "        text-align: right;\n",
       "    }\n",
       "</style>\n",
       "<table border=\"1\" class=\"dataframe\">\n",
       "  <thead>\n",
       "    <tr style=\"text-align: right;\">\n",
       "      <th></th>\n",
       "      <th>Features1</th>\n",
       "      <th>Features2</th>\n",
       "      <th>Features3</th>\n",
       "      <th>Features4</th>\n",
       "      <th>Features5</th>\n",
       "      <th>Features6</th>\n",
       "      <th>Features7</th>\n",
       "      <th>Features8</th>\n",
       "      <th>Target</th>\n",
       "    </tr>\n",
       "  </thead>\n",
       "  <tbody>\n",
       "    <tr>\n",
       "      <th>0</th>\n",
       "      <td>540.0</td>\n",
       "      <td>0.0</td>\n",
       "      <td>0.0</td>\n",
       "      <td>162.0</td>\n",
       "      <td>2.5</td>\n",
       "      <td>1040.0</td>\n",
       "      <td>676.0</td>\n",
       "      <td>28</td>\n",
       "      <td>79.99</td>\n",
       "    </tr>\n",
       "    <tr>\n",
       "      <th>1</th>\n",
       "      <td>540.0</td>\n",
       "      <td>0.0</td>\n",
       "      <td>0.0</td>\n",
       "      <td>162.0</td>\n",
       "      <td>2.5</td>\n",
       "      <td>1055.0</td>\n",
       "      <td>676.0</td>\n",
       "      <td>28</td>\n",
       "      <td>61.89</td>\n",
       "    </tr>\n",
       "  </tbody>\n",
       "</table>\n",
       "</div>"
      ],
      "text/plain": [
       "   Features1  Features2  Features3  Features4  Features5  Features6  \\\n",
       "0      540.0        0.0        0.0      162.0        2.5     1040.0   \n",
       "1      540.0        0.0        0.0      162.0        2.5     1055.0   \n",
       "\n",
       "   Features7  Features8  Target  \n",
       "0      676.0         28   79.99  \n",
       "1      676.0         28   61.89  "
      ]
     },
     "execution_count": 122,
     "metadata": {},
     "output_type": "execute_result"
    }
   ],
   "source": [
    "data2.head(2)"
   ]
  },
  {
   "cell_type": "markdown",
   "metadata": {},
   "source": [
    "### 2nd Algorithm :  \"Random Forest Regression\"\n",
    "    "
   ]
  },
  {
   "cell_type": "code",
   "execution_count": 123,
   "metadata": {},
   "outputs": [
    {
     "data": {
      "text/html": [
       "<div>\n",
       "<style scoped>\n",
       "    .dataframe tbody tr th:only-of-type {\n",
       "        vertical-align: middle;\n",
       "    }\n",
       "\n",
       "    .dataframe tbody tr th {\n",
       "        vertical-align: top;\n",
       "    }\n",
       "\n",
       "    .dataframe thead th {\n",
       "        text-align: right;\n",
       "    }\n",
       "</style>\n",
       "<table border=\"1\" class=\"dataframe\">\n",
       "  <thead>\n",
       "    <tr style=\"text-align: right;\">\n",
       "      <th></th>\n",
       "      <th>Features1</th>\n",
       "      <th>Features2</th>\n",
       "      <th>Features3</th>\n",
       "      <th>Features4</th>\n",
       "      <th>Features5</th>\n",
       "      <th>Features6</th>\n",
       "      <th>Features7</th>\n",
       "      <th>Features8</th>\n",
       "      <th>Target</th>\n",
       "    </tr>\n",
       "  </thead>\n",
       "  <tbody>\n",
       "    <tr>\n",
       "      <th>0</th>\n",
       "      <td>540.0</td>\n",
       "      <td>0.0</td>\n",
       "      <td>0.0</td>\n",
       "      <td>162.0</td>\n",
       "      <td>2.5</td>\n",
       "      <td>1040.0</td>\n",
       "      <td>676.0</td>\n",
       "      <td>28</td>\n",
       "      <td>79.99</td>\n",
       "    </tr>\n",
       "    <tr>\n",
       "      <th>1</th>\n",
       "      <td>540.0</td>\n",
       "      <td>0.0</td>\n",
       "      <td>0.0</td>\n",
       "      <td>162.0</td>\n",
       "      <td>2.5</td>\n",
       "      <td>1055.0</td>\n",
       "      <td>676.0</td>\n",
       "      <td>28</td>\n",
       "      <td>61.89</td>\n",
       "    </tr>\n",
       "    <tr>\n",
       "      <th>8</th>\n",
       "      <td>266.0</td>\n",
       "      <td>114.0</td>\n",
       "      <td>0.0</td>\n",
       "      <td>228.0</td>\n",
       "      <td>0.0</td>\n",
       "      <td>932.0</td>\n",
       "      <td>670.0</td>\n",
       "      <td>28</td>\n",
       "      <td>45.85</td>\n",
       "    </tr>\n",
       "    <tr>\n",
       "      <th>11</th>\n",
       "      <td>198.6</td>\n",
       "      <td>132.4</td>\n",
       "      <td>0.0</td>\n",
       "      <td>192.0</td>\n",
       "      <td>0.0</td>\n",
       "      <td>978.4</td>\n",
       "      <td>825.5</td>\n",
       "      <td>28</td>\n",
       "      <td>28.02</td>\n",
       "    </tr>\n",
       "    <tr>\n",
       "      <th>14</th>\n",
       "      <td>304.0</td>\n",
       "      <td>76.0</td>\n",
       "      <td>0.0</td>\n",
       "      <td>228.0</td>\n",
       "      <td>0.0</td>\n",
       "      <td>932.0</td>\n",
       "      <td>670.0</td>\n",
       "      <td>28</td>\n",
       "      <td>47.81</td>\n",
       "    </tr>\n",
       "    <tr>\n",
       "      <th>...</th>\n",
       "      <td>...</td>\n",
       "      <td>...</td>\n",
       "      <td>...</td>\n",
       "      <td>...</td>\n",
       "      <td>...</td>\n",
       "      <td>...</td>\n",
       "      <td>...</td>\n",
       "      <td>...</td>\n",
       "      <td>...</td>\n",
       "    </tr>\n",
       "    <tr>\n",
       "      <th>1025</th>\n",
       "      <td>276.4</td>\n",
       "      <td>116.0</td>\n",
       "      <td>90.3</td>\n",
       "      <td>179.6</td>\n",
       "      <td>8.9</td>\n",
       "      <td>870.1</td>\n",
       "      <td>768.3</td>\n",
       "      <td>28</td>\n",
       "      <td>44.28</td>\n",
       "    </tr>\n",
       "    <tr>\n",
       "      <th>1026</th>\n",
       "      <td>322.2</td>\n",
       "      <td>0.0</td>\n",
       "      <td>115.6</td>\n",
       "      <td>196.0</td>\n",
       "      <td>10.4</td>\n",
       "      <td>817.9</td>\n",
       "      <td>813.4</td>\n",
       "      <td>28</td>\n",
       "      <td>31.18</td>\n",
       "    </tr>\n",
       "    <tr>\n",
       "      <th>1027</th>\n",
       "      <td>148.5</td>\n",
       "      <td>139.4</td>\n",
       "      <td>108.6</td>\n",
       "      <td>192.7</td>\n",
       "      <td>6.1</td>\n",
       "      <td>892.4</td>\n",
       "      <td>780.0</td>\n",
       "      <td>28</td>\n",
       "      <td>23.70</td>\n",
       "    </tr>\n",
       "    <tr>\n",
       "      <th>1028</th>\n",
       "      <td>159.1</td>\n",
       "      <td>186.7</td>\n",
       "      <td>0.0</td>\n",
       "      <td>175.6</td>\n",
       "      <td>11.3</td>\n",
       "      <td>989.6</td>\n",
       "      <td>788.9</td>\n",
       "      <td>28</td>\n",
       "      <td>32.77</td>\n",
       "    </tr>\n",
       "    <tr>\n",
       "      <th>1029</th>\n",
       "      <td>260.9</td>\n",
       "      <td>100.5</td>\n",
       "      <td>78.3</td>\n",
       "      <td>200.6</td>\n",
       "      <td>8.6</td>\n",
       "      <td>864.5</td>\n",
       "      <td>761.5</td>\n",
       "      <td>28</td>\n",
       "      <td>32.40</td>\n",
       "    </tr>\n",
       "  </tbody>\n",
       "</table>\n",
       "<p>775 rows × 9 columns</p>\n",
       "</div>"
      ],
      "text/plain": [
       "      Features1  Features2  Features3  Features4  Features5  Features6  \\\n",
       "0         540.0        0.0        0.0      162.0        2.5     1040.0   \n",
       "1         540.0        0.0        0.0      162.0        2.5     1055.0   \n",
       "8         266.0      114.0        0.0      228.0        0.0      932.0   \n",
       "11        198.6      132.4        0.0      192.0        0.0      978.4   \n",
       "14        304.0       76.0        0.0      228.0        0.0      932.0   \n",
       "...         ...        ...        ...        ...        ...        ...   \n",
       "1025      276.4      116.0       90.3      179.6        8.9      870.1   \n",
       "1026      322.2        0.0      115.6      196.0       10.4      817.9   \n",
       "1027      148.5      139.4      108.6      192.7        6.1      892.4   \n",
       "1028      159.1      186.7        0.0      175.6       11.3      989.6   \n",
       "1029      260.9      100.5       78.3      200.6        8.6      864.5   \n",
       "\n",
       "      Features7  Features8  Target  \n",
       "0         676.0         28   79.99  \n",
       "1         676.0         28   61.89  \n",
       "8         670.0         28   45.85  \n",
       "11        825.5         28   28.02  \n",
       "14        670.0         28   47.81  \n",
       "...         ...        ...     ...  \n",
       "1025      768.3         28   44.28  \n",
       "1026      813.4         28   31.18  \n",
       "1027      780.0         28   23.70  \n",
       "1028      788.9         28   32.77  \n",
       "1029      761.5         28   32.40  \n",
       "\n",
       "[775 rows x 9 columns]"
      ]
     },
     "execution_count": 123,
     "metadata": {},
     "output_type": "execute_result"
    }
   ],
   "source": [
    "data3 = data2.copy()\n",
    "data3"
   ]
  },
  {
   "cell_type": "code",
   "execution_count": 124,
   "metadata": {},
   "outputs": [
    {
     "name": "stdout",
     "output_type": "stream",
     "text": [
      "Standred Scaller Base Model Accuarcy :  83.57376636019312 %\n",
      "Standred Scaller Base Model MSE :  46.22573560662089\n",
      "Standred Scaller Base Model MAE :  5.135642565379541\n"
     ]
    }
   ],
   "source": [
    "# Features and Target Selection \n",
    "X = data3.iloc[:,:-1]\n",
    "y = data3.iloc[:,-1]\n",
    "\n",
    "# Regression Technique\n",
    "X_train,X_test,y_train,y_test = train_test_split(X,y,test_size=0.20,random_state=31)\n",
    "linreg = LinearRegression()\n",
    "linreg.fit(X_train,y_train)\n",
    "y_pred = linreg.predict(X_test)\n",
    "print('Standred Scaller Base Model Accuarcy : ',r2_score(y_test,y_pred)*100,'%')\n",
    "print('Standred Scaller Base Model MSE : ',mean_squared_error(y_test,y_pred))\n",
    "print('Standred Scaller Base Model MAE : ',mean_absolute_error(y_test,y_pred))\n",
    "\n",
    "rf_R2 = r2_score(y_test,y_pred)\n",
    "rf_MSE = mean_squared_error(y_test,y_pred)\n",
    "rf_MAE = mean_absolute_error(y_test,y_pred)"
   ]
  },
  {
   "cell_type": "code",
   "execution_count": 125,
   "metadata": {},
   "outputs": [
    {
     "name": "stdout",
     "output_type": "stream",
     "text": [
      "Underfitting, Overfitting condition with Train :  0.8022324743593112\n",
      "Uderfitting Overfitting condition with Test :  0.8357376636019311\n"
     ]
    }
   ],
   "source": [
    "# Overfitting and under fitting Test case\n",
    "# Note  : if we will find high distance between the train and test values means case is overfitting and that time,\n",
    "            #we have to apply Some  regularization technique and then we have to penaling the best fit line with the helo of 'Alpha' values.\n",
    "print('Underfitting, Overfitting condition with Train : ',linreg.score(X_train,y_train))\n",
    "print('Uderfitting Overfitting condition with Test : ',linreg.score(X_test,y_test))"
   ]
  },
  {
   "cell_type": "code",
   "execution_count": 126,
   "metadata": {},
   "outputs": [
    {
     "data": {
      "text/plain": [
       "{'Model': 'With Multicolinerity Veriables',\n",
       " 'R2': 0.8357376636019311,\n",
       " 'MSE': 46.22573560662089,\n",
       " 'MAE': 5.135642565379541,\n",
       " 'Description': 'If we will not clear all multicolierity variable from the DataFrame'}"
      ]
     },
     "execution_count": 126,
     "metadata": {},
     "output_type": "execute_result"
    }
   ],
   "source": [
    "# Project Summary : Random Forest Technique\n",
    "project_summary[6] = {}\n",
    "project_summary[6]['Model'] = 'With Multicolinerity Veriables'\n",
    "project_summary[6]['R2'] = rf_R2\n",
    "project_summary[6]['MSE'] = rf_MSE\n",
    "project_summary[6]['MAE'] = rf_MAE\n",
    "project_summary[6]['Description'] = 'If we will not clear all multicolierity variable from the DataFrame'\n",
    "\n",
    "project_summary[6]"
   ]
  },
  {
   "cell_type": "code",
   "execution_count": 127,
   "metadata": {},
   "outputs": [
    {
     "data": {
      "text/html": [
       "<div>\n",
       "<style scoped>\n",
       "    .dataframe tbody tr th:only-of-type {\n",
       "        vertical-align: middle;\n",
       "    }\n",
       "\n",
       "    .dataframe tbody tr th {\n",
       "        vertical-align: top;\n",
       "    }\n",
       "\n",
       "    .dataframe thead th {\n",
       "        text-align: right;\n",
       "    }\n",
       "</style>\n",
       "<table border=\"1\" class=\"dataframe\">\n",
       "  <thead>\n",
       "    <tr style=\"text-align: right;\">\n",
       "      <th></th>\n",
       "      <th>Features1</th>\n",
       "      <th>Features2</th>\n",
       "      <th>Features3</th>\n",
       "      <th>Features4</th>\n",
       "      <th>Features5</th>\n",
       "      <th>Features6</th>\n",
       "      <th>Features7</th>\n",
       "      <th>Features8</th>\n",
       "      <th>Target</th>\n",
       "    </tr>\n",
       "  </thead>\n",
       "  <tbody>\n",
       "    <tr>\n",
       "      <th>0</th>\n",
       "      <td>540.0</td>\n",
       "      <td>0.0</td>\n",
       "      <td>0.0</td>\n",
       "      <td>162.0</td>\n",
       "      <td>2.5</td>\n",
       "      <td>1040.0</td>\n",
       "      <td>676.0</td>\n",
       "      <td>28</td>\n",
       "      <td>79.99</td>\n",
       "    </tr>\n",
       "    <tr>\n",
       "      <th>1</th>\n",
       "      <td>540.0</td>\n",
       "      <td>0.0</td>\n",
       "      <td>0.0</td>\n",
       "      <td>162.0</td>\n",
       "      <td>2.5</td>\n",
       "      <td>1055.0</td>\n",
       "      <td>676.0</td>\n",
       "      <td>28</td>\n",
       "      <td>61.89</td>\n",
       "    </tr>\n",
       "  </tbody>\n",
       "</table>\n",
       "</div>"
      ],
      "text/plain": [
       "   Features1  Features2  Features3  Features4  Features5  Features6  \\\n",
       "0      540.0        0.0        0.0      162.0        2.5     1040.0   \n",
       "1      540.0        0.0        0.0      162.0        2.5     1055.0   \n",
       "\n",
       "   Features7  Features8  Target  \n",
       "0      676.0         28   79.99  \n",
       "1      676.0         28   61.89  "
      ]
     },
     "execution_count": 127,
     "metadata": {},
     "output_type": "execute_result"
    }
   ],
   "source": [
    "data3.head(2)"
   ]
  },
  {
   "cell_type": "markdown",
   "metadata": {},
   "source": [
    "## KNN Technique"
   ]
  },
  {
   "cell_type": "code",
   "execution_count": 128,
   "metadata": {},
   "outputs": [
    {
     "name": "stdout",
     "output_type": "stream",
     "text": [
      "    Estimator   R2score         MSE       MAE\n",
      "0           1  0.567133  101.209668  6.888660\n",
      "1           2  0.570174  100.498587  7.531727\n",
      "2           3  0.589943   95.876420  7.457732\n",
      "3           4  0.615663   89.862847  7.235490\n",
      "4           5  0.638082   84.620973  6.997928\n",
      "5           6  0.655006   80.663838  7.005885\n",
      "6           7  0.644132   83.206334  7.207813\n",
      "7           8  0.607765   91.709516  7.636888\n",
      "8           9  0.590487   95.749343  7.837423\n",
      "9          10  0.592374   95.308125  7.728804\n",
      "10         11  0.583759   97.322440  7.769110\n",
      "11         12  0.581063   97.952663  7.801143\n",
      "12         13  0.571717  100.138002  7.909461\n",
      "13         14  0.557919  103.363997  8.014219\n",
      "14         15  0.552069  104.731730  8.056464\n",
      "15         16  0.544824  106.425764  8.227899\n",
      "16         17  0.533395  109.098069  8.356777\n",
      "17         18  0.525214  111.010989  8.445530\n",
      "18         19  0.513766  113.687539  8.541701\n"
     ]
    },
    {
     "data": {
      "image/png": "[encoded data removed]",
      "text/plain": [
       "<Figure size 1080x144 with 3 Axes>"
      ]
     },
     "metadata": {
      "needs_background": "light"
     },
     "output_type": "display_data"
    }
   ],
   "source": [
    "### KNN Regression Technique \n",
    "from sklearn.neighbors import KNeighborsRegressor\n",
    "from sklearn.metrics import mean_absolute_error,mean_squared_error,r2_score\n",
    "estimator = []\n",
    "score = []\n",
    "mse = []\n",
    "mae = []\n",
    "for  i in range(1,20):\n",
    "    knn = KNeighborsRegressor(n_neighbors=i, weights='uniform')\n",
    "    # Features selection \n",
    "    X = data3.iloc[:,:-1]\n",
    "    y = data3.iloc[:,-1]\n",
    "    # Split and Fit model\n",
    "    X_train,X_test,y_train,y_test = train_test_split(X,y,test_size=0.25,random_state=41)\n",
    "    knn.fit(X_train,y_train)\n",
    "    y_pred = knn.predict(X_test)\n",
    "    r2Score = r2_score(y_test,y_pred)\n",
    "    MSE = mean_squared_error(y_test,y_pred)\n",
    "    MAE = mean_absolute_error(y_test,y_pred)\n",
    "    estimator.append(i)\n",
    "    score.append(r2Score)\n",
    "    mse.append(MSE)\n",
    "    mae.append(MAE)\n",
    "Knn = pd.DataFrame()\n",
    "Knn['Estimator'] = estimator\n",
    "Knn['R2score'] = score\n",
    "Knn['MSE'] = mse\n",
    "Knn['MAE'] = mae\n",
    "print(Knn)\n",
    "\n",
    "### Plot \n",
    "plt.figure(figsize=(15,2))\n",
    "plt.subplot(131)\n",
    "sns.lineplot(Knn['Estimator'],Knn['MSE'])\n",
    "plt.title('Estimator V/s Mean Squared Error')\n",
    "plt.subplot(132)\n",
    "sns.lineplot(Knn['Estimator'],Knn['MAE'])\n",
    "plt.title('Estimator V/s Mean Absolute Error')\n",
    "plt.subplot(133)\n",
    "sns.lineplot(Knn['Estimator'],Knn['R2score'])\n",
    "plt.title('Estimator V/s R2 score')\n",
    "plt.show()"
   ]
  },
  {
   "cell_type": "code",
   "execution_count": 129,
   "metadata": {},
   "outputs": [
    {
     "name": "stdout",
     "output_type": "stream",
     "text": [
      "0.5671331077970649 101.20966804123712 6.888659793814433\n"
     ]
    }
   ],
   "source": [
    "knn = KNeighborsRegressor(n_neighbors=1, weights='uniform')\n",
    "# Features selection \n",
    "X = data3.iloc[:,:-1]\n",
    "y = data3.iloc[:,-1]\n",
    "# Split and Fit model\n",
    "X_train,X_test,y_train,y_test = train_test_split(X,y,test_size=0.25,random_state=41)\n",
    "knn.fit(X_train,y_train)\n",
    "y_pred = knn.predict(X_test)\n",
    "r2Score = r2_score(y_test,y_pred)\n",
    "MSE = mean_squared_error(y_test,y_pred)\n",
    "MAE = mean_absolute_error(y_test,y_pred)\n",
    "\n",
    "print(r2Score,MSE,MAE)"
   ]
  },
  {
   "cell_type": "code",
   "execution_count": 130,
   "metadata": {},
   "outputs": [
    {
     "data": {
      "text/plain": [
       "{'Model': 'K-nearest neighbors',\n",
       " 'R2': 0.5671331077970649,\n",
       " 'MSE': 101.20966804123712,\n",
       " 'MAE': 6.888659793814433,\n",
       " 'Description': 'Using KNN we are getting Max accuarcy with Mentioned MSE and MAE'}"
      ]
     },
     "execution_count": 130,
     "metadata": {},
     "output_type": "execute_result"
    }
   ],
   "source": [
    "# Project Summary : KNN Technique\n",
    "project_summary[7] = {}\n",
    "project_summary[7]['Model'] = 'K-nearest neighbors'\n",
    "project_summary[7]['R2'] = r2Score\n",
    "project_summary[7]['MSE'] = MSE\n",
    "project_summary[7]['MAE'] = MAE\n",
    "project_summary[7]['Description'] = 'Using KNN we are getting Max accuarcy with Mentioned MSE and MAE'\n",
    "\n",
    "project_summary[7]"
   ]
  },
  {
   "cell_type": "code",
   "execution_count": 131,
   "metadata": {},
   "outputs": [],
   "source": [
    "### Support Vector Machine"
   ]
  },
  {
   "cell_type": "code",
   "execution_count": null,
   "metadata": {},
   "outputs": [],
   "source": []
  },
  {
   "cell_type": "markdown",
   "metadata": {},
   "source": [
    "## Decision Tree Concept\n",
    "\n",
    "#### Information Gain is calculated for a split by subtracting the weighted entropies of each branch from the original entropy. When training a Decision Tree using these metrics, the best split is chosen by maximizing Information Gain.\n",
    "\n",
    "    Information Entropy\n",
    "    Case 1st : we will split the data into two vector X = {Red,Red,Red,Red} and y = {Yellow,Red,Red,Black,Black,Yellow}\n",
    "    \n",
    "                        Before the Split We have Entropy is : -(7/10.log2.7/10 + 2/10.log2.2/10 + 2/10.log2.2/10)\n",
    "                                                        \n",
    "                                                         E(Before)   : 0.12\n",
    "        \n",
    "    Entropy Concept -- in X, we have a simple one type of catgory data, means have a Low Entropy in dataset.\n",
    "                       in Y, we have a Different-2 type of catgory data, means have a High Entropy in dataset\n",
    "        \n",
    "                        Formula : -∑p.log2.p  :  where P is the randomly picking the element\n",
    "                        X = -(P0.log2.P0)\n",
    "                        X = -(1.log2.1) = 0\n",
    "                        X = first Branch Entropy is 0\n",
    "                        \n",
    "                        Y = -(P0.log2.P0 + P1.log2.P1 + P2.log2.P2)\n",
    "                        Y = -(2/6.log2.2/6 + 2/6.log2.2/6 + 2/6.log2.2/6)\n",
    "                        Y = 0.38\n",
    "                        Y = Second Branch Entropy is 0.38\n",
    "                        \n",
    "    Information Gain :  X(Entropy) = 0 and Y(Entropy) = 0.38 \n",
    "                        Now we have Both Branch Entropy and now  we can determine the quality of split by weighting of entropy\n",
    "                        of each branch by how many element it has.\n",
    "                        X(weight) = 0.4\n",
    "                        Y(weight) = 0.6\n",
    "                        \n",
    "                        E(split) = 0.4*0 + 0.6*0.38 = 0.228\n",
    "                        \n",
    "                        \"Note : Information Gain = how much Entropy we removed\"\n",
    "                        \n",
    "                        Gain = 0.12 - 0.38 = 0.26 (higher Information Gain = more Entropy removed)\n",
    "                        \n",
    "                        \"The best split is chosen by maximizing Information Gain.\"\n",
    "                        \n",
    "                        \n",
    "#### Recap Information Gain : Information Gain is calculated for a split by subtracting the weighted entropies of each branch from the original entropy.  \n",
    "\n",
    "###### Refrence : https://www.analyticsvidhya.com/blog/2021/03/how-to-select-best-split-in-decision-trees-using-information-gain/"
   ]
  },
  {
   "cell_type": "code",
   "execution_count": 139,
   "metadata": {},
   "outputs": [
    {
     "name": "stdout",
     "output_type": "stream",
     "text": [
      "    Max Depth   R2score         MSE        MAE\n",
      "0           1  0.219932  182.389558  10.572854\n",
      "1           2  0.480766  121.403385   8.621173\n",
      "2           3  0.622426   88.281523   7.112319\n",
      "3           4  0.722538   64.874106   6.212698\n",
      "4           5  0.769452   53.905036   5.921850\n",
      "5           6  0.803940   45.841231   5.186510\n",
      "6           7  0.791907   48.654624   5.132156\n",
      "7           8  0.810286   44.357456   4.837402\n",
      "8           9  0.824737   40.978692   4.474356\n",
      "9          10  0.798599   47.090021   4.533167\n",
      "10         11  0.821957   41.628560   4.210136\n",
      "11         12  0.807190   45.081438   4.321526\n",
      "12         13  0.822196   41.572885   4.145975\n",
      "13         14  0.802134   46.263611   4.357806\n",
      "14         15  0.825517   40.796270   4.067363\n",
      "15         16  0.822248   41.560632   4.143909\n",
      "16         17  0.816490   42.906959   4.245077\n",
      "17         18  0.799188   46.952251   4.411675\n",
      "18         19  0.818044   42.543480   4.231366\n"
     ]
    },
    {
     "data": {
      "image/png": "[encoded data removed]",
      "text/plain": [
       "<Figure size 1080x144 with 3 Axes>"
      ]
     },
     "metadata": {
      "needs_background": "light"
     },
     "output_type": "display_data"
    }
   ],
   "source": [
    "### Decision Tree Regression Technique \n",
    "from sklearn.tree import DecisionTreeRegressor,export_graphviz\n",
    "from sklearn.metrics import mean_absolute_error,mean_squared_error,r2_score\n",
    "estimator = []\n",
    "score = []\n",
    "mse = []\n",
    "mae = []\n",
    "for  i in range(1,20):\n",
    "    dtr = DecisionTreeRegressor(random_state=0,max_depth=i)\n",
    "    # Features selection \n",
    "    X = data3.iloc[:,:-1]\n",
    "    y = data3.iloc[:,-1]\n",
    "    # Split and Fit model\n",
    "    X_train,X_test,y_train,y_test = train_test_split(X,y,test_size=0.25,random_state=41)\n",
    "    dtr.fit(X_train,y_train)\n",
    "    y_pred = dtr.predict(X_test)\n",
    "    r2Score = r2_score(y_test,y_pred)\n",
    "    MSE = mean_squared_error(y_test,y_pred)\n",
    "    MAE = mean_absolute_error(y_test,y_pred)\n",
    "    estimator.append(i)\n",
    "    score.append(r2Score)\n",
    "    mse.append(MSE)\n",
    "    mae.append(MAE)\n",
    "dtr = pd.DataFrame()\n",
    "dtr['Max Depth'] = estimator\n",
    "dtr['R2score'] = score\n",
    "dtr['MSE'] = mse\n",
    "dtr['MAE'] = mae\n",
    "print(dtr)\n",
    "\n",
    "### Plot \n",
    "plt.figure(figsize=(15,2))\n",
    "plt.subplot(131)\n",
    "sns.lineplot(dtr['Max Depth'],dtr['MSE'])\n",
    "plt.title('Max Depth V/s Mean Squared Error')\n",
    "plt.subplot(132)\n",
    "sns.lineplot(dtr['Max Depth'],dtr['MAE'])\n",
    "plt.title('Max Depth V/s Mean Absolute Error')\n",
    "plt.subplot(133)\n",
    "sns.lineplot(dtr['Max Depth'],dtr['R2score'])\n",
    "plt.title('Max Depth V/s R2 score')\n",
    "plt.show()"
   ]
  },
  {
   "cell_type": "code",
   "execution_count": 140,
   "metadata": {},
   "outputs": [
    {
     "name": "stdout",
     "output_type": "stream",
     "text": [
      "0.8255171193533498 4.067362542955326 40.79626958591064\n"
     ]
    }
   ],
   "source": [
    "dtr = DecisionTreeRegressor(random_state=0,max_depth=15)\n",
    "# Features selection \n",
    "X = data3.iloc[:,:-1]\n",
    "y = data3.iloc[:,-1]\n",
    "# Split and Fit model\n",
    "X_train,X_test,y_train,y_test = train_test_split(X,y,test_size=0.25,random_state=41)\n",
    "dtr.fit(X_train,y_train)\n",
    "y_pred = dtr.predict(X_test)\n",
    "r2Score = r2_score(y_test,y_pred)\n",
    "MSE = mean_squared_error(y_test,y_pred)\n",
    "MAE = mean_absolute_error(y_test,y_pred)\n",
    "\n",
    "print(r2Score,MAE,MSE)"
   ]
  },
  {
   "cell_type": "code",
   "execution_count": 141,
   "metadata": {},
   "outputs": [
    {
     "data": {
      "text/plain": [
       "{'Model': 'Decision Tree Regresssion Tech',\n",
       " 'R2': 0.8255171193533498,\n",
       " 'MSE': 40.79626958591064,\n",
       " 'MAE': 4.067362542955326,\n",
       " 'Description': 'Using Decision Tree Technique, we are getting Max accuarcy at hyper-perameter : 15 with Mentioned MSE and MAE'}"
      ]
     },
     "execution_count": 141,
     "metadata": {},
     "output_type": "execute_result"
    }
   ],
   "source": [
    "# Project Summary :  Decision Tree algo\n",
    "project_summary[8] = {}\n",
    "project_summary[8]['Model'] = 'Decision Tree Regresssion Tech'\n",
    "project_summary[8]['R2'] = r2Score\n",
    "project_summary[8]['MSE'] = MSE\n",
    "project_summary[8]['MAE'] = MAE\n",
    "project_summary[8]['Description'] = 'Using Decision Tree Technique, we are getting Max accuarcy at hyper-perameter : 15 with Mentioned MSE and MAE'\n",
    "\n",
    "project_summary[8]"
   ]
  },
  {
   "cell_type": "code",
   "execution_count": 63,
   "metadata": {},
   "outputs": [
    {
     "ename": "NotFittedError",
     "evalue": "This DecisionTreeRegressor instance is not fitted yet. Call 'fit' with appropriate arguments before using this estimator.",
     "output_type": "error",
     "traceback": [
      "\u001b[1;31m---------------------------------------------------------------------------\u001b[0m",
      "\u001b[1;31mNotFittedError\u001b[0m                            Traceback (most recent call last)",
      "\u001b[1;32m<ipython-input-63-644ab988e86c>\u001b[0m in \u001b[0;36m<module>\u001b[1;34m\u001b[0m\n\u001b[0;32m      8\u001b[0m \u001b[1;33m\u001b[0m\u001b[0m\n\u001b[0;32m      9\u001b[0m \u001b[0mlables\u001b[0m \u001b[1;33m=\u001b[0m \u001b[0mX\u001b[0m\u001b[1;33m.\u001b[0m\u001b[0mcolumns\u001b[0m\u001b[1;33m\u001b[0m\u001b[1;33m\u001b[0m\u001b[0m\n\u001b[1;32m---> 10\u001b[1;33m \u001b[0mgraph\u001b[0m \u001b[1;33m=\u001b[0m \u001b[0mSource\u001b[0m\u001b[1;33m(\u001b[0m\u001b[0mtree\u001b[0m\u001b[1;33m.\u001b[0m\u001b[0mexport_graphviz\u001b[0m\u001b[1;33m(\u001b[0m\u001b[0mclf\u001b[0m\u001b[1;33m,\u001b[0m\u001b[0mfeature_names\u001b[0m\u001b[1;33m=\u001b[0m\u001b[0mlables\u001b[0m \u001b[1;33m,\u001b[0m\u001b[0mclass_names\u001b[0m\u001b[1;33m=\u001b[0m\u001b[0my\u001b[0m\u001b[1;33m,\u001b[0m\u001b[0mmax_depth\u001b[0m\u001b[1;33m=\u001b[0m\u001b[1;36m2\u001b[0m\u001b[1;33m,\u001b[0m\u001b[0mfilled\u001b[0m\u001b[1;33m=\u001b[0m\u001b[1;32mTrue\u001b[0m\u001b[1;33m)\u001b[0m\u001b[1;33m)\u001b[0m\u001b[1;33m\u001b[0m\u001b[1;33m\u001b[0m\u001b[0m\n\u001b[0m\u001b[0;32m     11\u001b[0m \u001b[0mdisplay\u001b[0m\u001b[1;33m(\u001b[0m\u001b[0mSVG\u001b[0m\u001b[1;33m(\u001b[0m\u001b[0mgraph\u001b[0m\u001b[1;33m.\u001b[0m\u001b[0mpipe\u001b[0m\u001b[1;33m(\u001b[0m\u001b[0mformat\u001b[0m\u001b[1;33m=\u001b[0m\u001b[1;34m'svg'\u001b[0m\u001b[1;33m)\u001b[0m\u001b[1;33m)\u001b[0m\u001b[1;33m)\u001b[0m\u001b[1;33m\u001b[0m\u001b[1;33m\u001b[0m\u001b[0m\n",
      "\u001b[1;32mC:\\ProgramData\\Anaconda3\\lib\\site-packages\\sklearn\\utils\\validation.py\u001b[0m in \u001b[0;36minner_f\u001b[1;34m(*args, **kwargs)\u001b[0m\n\u001b[0;32m     61\u001b[0m             \u001b[0mextra_args\u001b[0m \u001b[1;33m=\u001b[0m \u001b[0mlen\u001b[0m\u001b[1;33m(\u001b[0m\u001b[0margs\u001b[0m\u001b[1;33m)\u001b[0m \u001b[1;33m-\u001b[0m \u001b[0mlen\u001b[0m\u001b[1;33m(\u001b[0m\u001b[0mall_args\u001b[0m\u001b[1;33m)\u001b[0m\u001b[1;33m\u001b[0m\u001b[1;33m\u001b[0m\u001b[0m\n\u001b[0;32m     62\u001b[0m             \u001b[1;32mif\u001b[0m \u001b[0mextra_args\u001b[0m \u001b[1;33m<=\u001b[0m \u001b[1;36m0\u001b[0m\u001b[1;33m:\u001b[0m\u001b[1;33m\u001b[0m\u001b[1;33m\u001b[0m\u001b[0m\n\u001b[1;32m---> 63\u001b[1;33m                 \u001b[1;32mreturn\u001b[0m \u001b[0mf\u001b[0m\u001b[1;33m(\u001b[0m\u001b[1;33m*\u001b[0m\u001b[0margs\u001b[0m\u001b[1;33m,\u001b[0m \u001b[1;33m**\u001b[0m\u001b[0mkwargs\u001b[0m\u001b[1;33m)\u001b[0m\u001b[1;33m\u001b[0m\u001b[1;33m\u001b[0m\u001b[0m\n\u001b[0m\u001b[0;32m     64\u001b[0m \u001b[1;33m\u001b[0m\u001b[0m\n\u001b[0;32m     65\u001b[0m             \u001b[1;31m# extra_args > 0\u001b[0m\u001b[1;33m\u001b[0m\u001b[1;33m\u001b[0m\u001b[1;33m\u001b[0m\u001b[0m\n",
      "\u001b[1;32mC:\\ProgramData\\Anaconda3\\lib\\site-packages\\sklearn\\tree\\_export.py\u001b[0m in \u001b[0;36mexport_graphviz\u001b[1;34m(decision_tree, out_file, max_depth, feature_names, class_names, label, filled, leaves_parallel, impurity, node_ids, proportion, rotate, rounded, special_characters, precision)\u001b[0m\n\u001b[0;32m    767\u001b[0m     \"\"\"\n\u001b[0;32m    768\u001b[0m \u001b[1;33m\u001b[0m\u001b[0m\n\u001b[1;32m--> 769\u001b[1;33m     \u001b[0mcheck_is_fitted\u001b[0m\u001b[1;33m(\u001b[0m\u001b[0mdecision_tree\u001b[0m\u001b[1;33m)\u001b[0m\u001b[1;33m\u001b[0m\u001b[1;33m\u001b[0m\u001b[0m\n\u001b[0m\u001b[0;32m    770\u001b[0m     \u001b[0mown_file\u001b[0m \u001b[1;33m=\u001b[0m \u001b[1;32mFalse\u001b[0m\u001b[1;33m\u001b[0m\u001b[1;33m\u001b[0m\u001b[0m\n\u001b[0;32m    771\u001b[0m     \u001b[0mreturn_string\u001b[0m \u001b[1;33m=\u001b[0m \u001b[1;32mFalse\u001b[0m\u001b[1;33m\u001b[0m\u001b[1;33m\u001b[0m\u001b[0m\n",
      "\u001b[1;32mC:\\ProgramData\\Anaconda3\\lib\\site-packages\\sklearn\\utils\\validation.py\u001b[0m in \u001b[0;36minner_f\u001b[1;34m(*args, **kwargs)\u001b[0m\n\u001b[0;32m     61\u001b[0m             \u001b[0mextra_args\u001b[0m \u001b[1;33m=\u001b[0m \u001b[0mlen\u001b[0m\u001b[1;33m(\u001b[0m\u001b[0margs\u001b[0m\u001b[1;33m)\u001b[0m \u001b[1;33m-\u001b[0m \u001b[0mlen\u001b[0m\u001b[1;33m(\u001b[0m\u001b[0mall_args\u001b[0m\u001b[1;33m)\u001b[0m\u001b[1;33m\u001b[0m\u001b[1;33m\u001b[0m\u001b[0m\n\u001b[0;32m     62\u001b[0m             \u001b[1;32mif\u001b[0m \u001b[0mextra_args\u001b[0m \u001b[1;33m<=\u001b[0m \u001b[1;36m0\u001b[0m\u001b[1;33m:\u001b[0m\u001b[1;33m\u001b[0m\u001b[1;33m\u001b[0m\u001b[0m\n\u001b[1;32m---> 63\u001b[1;33m                 \u001b[1;32mreturn\u001b[0m \u001b[0mf\u001b[0m\u001b[1;33m(\u001b[0m\u001b[1;33m*\u001b[0m\u001b[0margs\u001b[0m\u001b[1;33m,\u001b[0m \u001b[1;33m**\u001b[0m\u001b[0mkwargs\u001b[0m\u001b[1;33m)\u001b[0m\u001b[1;33m\u001b[0m\u001b[1;33m\u001b[0m\u001b[0m\n\u001b[0m\u001b[0;32m     64\u001b[0m \u001b[1;33m\u001b[0m\u001b[0m\n\u001b[0;32m     65\u001b[0m             \u001b[1;31m# extra_args > 0\u001b[0m\u001b[1;33m\u001b[0m\u001b[1;33m\u001b[0m\u001b[1;33m\u001b[0m\u001b[0m\n",
      "\u001b[1;32mC:\\ProgramData\\Anaconda3\\lib\\site-packages\\sklearn\\utils\\validation.py\u001b[0m in \u001b[0;36mcheck_is_fitted\u001b[1;34m(estimator, attributes, msg, all_or_any)\u001b[0m\n\u001b[0;32m   1096\u001b[0m \u001b[1;33m\u001b[0m\u001b[0m\n\u001b[0;32m   1097\u001b[0m     \u001b[1;32mif\u001b[0m \u001b[1;32mnot\u001b[0m \u001b[0mattrs\u001b[0m\u001b[1;33m:\u001b[0m\u001b[1;33m\u001b[0m\u001b[1;33m\u001b[0m\u001b[0m\n\u001b[1;32m-> 1098\u001b[1;33m         \u001b[1;32mraise\u001b[0m \u001b[0mNotFittedError\u001b[0m\u001b[1;33m(\u001b[0m\u001b[0mmsg\u001b[0m \u001b[1;33m%\u001b[0m \u001b[1;33m{\u001b[0m\u001b[1;34m'name'\u001b[0m\u001b[1;33m:\u001b[0m \u001b[0mtype\u001b[0m\u001b[1;33m(\u001b[0m\u001b[0mestimator\u001b[0m\u001b[1;33m)\u001b[0m\u001b[1;33m.\u001b[0m\u001b[0m__name__\u001b[0m\u001b[1;33m}\u001b[0m\u001b[1;33m)\u001b[0m\u001b[1;33m\u001b[0m\u001b[1;33m\u001b[0m\u001b[0m\n\u001b[0m\u001b[0;32m   1099\u001b[0m \u001b[1;33m\u001b[0m\u001b[0m\n\u001b[0;32m   1100\u001b[0m \u001b[1;33m\u001b[0m\u001b[0m\n",
      "\u001b[1;31mNotFittedError\u001b[0m: This DecisionTreeRegressor instance is not fitted yet. Call 'fit' with appropriate arguments before using this estimator."
     ]
    }
   ],
   "source": [
    "from sklearn.tree import export_graphviz\n",
    "from sklearn import tree\n",
    "from IPython.display import SVG\n",
    "from graphviz import Source\n",
    "from IPython.display import display\n",
    "\n",
    "clf = DecisionTreeRegressor(max_depth=2,random_state=36)\n",
    "\n",
    "lables = X.columns\n",
    "graph = Source(tree.export_graphviz(clf,feature_names=lables ,class_names=y,max_depth=2,filled=True))\n",
    "display(SVG(graph.pipe(format='svg')))"
   ]
  },
  {
   "cell_type": "markdown",
   "metadata": {},
   "source": [
    "### Random Forest Concept\n",
    "#### The random forest is a model made up of many decision trees. Rather than just simply averaging the prediction of trees\n"
   ]
  },
  {
   "cell_type": "code",
   "execution_count": 142,
   "metadata": {},
   "outputs": [
    {
     "name": "stdout",
     "output_type": "stream",
     "text": [
      "    Estimator   R2score        MSE       MAE\n",
      "0           5  0.877196  28.713209  3.792585\n",
      "1           6  0.884886  26.915086  3.667765\n",
      "2           7  0.893729  24.847511  3.521214\n",
      "3           8  0.899501  23.497940  3.378733\n",
      "4           9  0.903644  22.529313  3.363164\n",
      "5          10  0.903825  22.486916  3.376971\n",
      "6          11  0.903384  22.589989  3.386888\n",
      "7          12  0.902105  22.889013  3.416663\n",
      "8          13  0.902449  22.808708  3.431870\n",
      "9          14  0.904391  22.354596  3.360282\n",
      "10         15  0.905285  22.145478  3.374957\n",
      "11         16  0.905565  22.080035  3.351208\n",
      "12         17  0.905772  22.031568  3.359135\n",
      "13         18  0.908288  21.443329  3.334023\n",
      "14         19  0.907371  21.657920  3.340784\n"
     ]
    },
    {
     "data": {
      "image/png": "[encoded data removed]",
      "text/plain": [
       "<Figure size 1080x144 with 3 Axes>"
      ]
     },
     "metadata": {
      "needs_background": "light"
     },
     "output_type": "display_data"
    }
   ],
   "source": [
    "### Random Forest Regression Technique \n",
    "from sklearn.ensemble import RandomForestRegressor\n",
    "from sklearn.metrics import mean_absolute_error,mean_squared_error,r2_score\n",
    "estimator = []\n",
    "score = []\n",
    "mse = []\n",
    "mae = []\n",
    "for  i in range(5,20):\n",
    "    rfr = RandomForestRegressor(n_estimators=i, random_state=0)\n",
    "    # Features selection \n",
    "    X = data3.iloc[:,:-1]\n",
    "    y = data3.iloc[:,-1]\n",
    "    # Split and Fit model\n",
    "    X_train,X_test,y_train,y_test = train_test_split(X,y,test_size=0.25,random_state=41)\n",
    "    rfr.fit(X_train,y_train)\n",
    "    y_pred = rfr.predict(X_test)\n",
    "    r2Score = r2_score(y_test,y_pred)\n",
    "    MSE = mean_squared_error(y_test,y_pred)\n",
    "    MAE = mean_absolute_error(y_test,y_pred)\n",
    "    estimator.append(i)\n",
    "    score.append(r2Score)\n",
    "    mse.append(MSE)\n",
    "    mae.append(MAE)\n",
    "RandomF = pd.DataFrame()\n",
    "RandomF['Estimator'] = estimator\n",
    "RandomF['R2score'] = score\n",
    "RandomF['MSE'] = mse\n",
    "RandomF['MAE'] = mae\n",
    "print(RandomF)\n",
    "\n",
    "### Plot \n",
    "plt.figure(figsize=(15,2))\n",
    "plt.subplot(131)\n",
    "sns.lineplot(RandomF['Estimator'],RandomF['MSE'])\n",
    "plt.title('Estimator V/s Mean Squared Error')\n",
    "plt.subplot(132)\n",
    "sns.lineplot(RandomF['Estimator'],RandomF['MAE'])\n",
    "plt.title('Estimator V/s Mean Absolute Error')\n",
    "plt.subplot(133)\n",
    "sns.lineplot(RandomF['Estimator'],RandomF['R2score'])\n",
    "plt.title('Estimator V/s R2 score')\n",
    "plt.show()"
   ]
  },
  {
   "cell_type": "code",
   "execution_count": 143,
   "metadata": {},
   "outputs": [
    {
     "name": "stdout",
     "output_type": "stream",
     "text": [
      "0.908288336809204 21.443328547979156 3.3340231004200063\n"
     ]
    }
   ],
   "source": [
    "rfr = RandomForestRegressor(n_estimators=18, random_state=0)\n",
    "# Features selection \n",
    "X = data3.iloc[:,:-1]\n",
    "y = data3.iloc[:,-1]\n",
    "# Split and Fit model\n",
    "X_train,X_test,y_train,y_test = train_test_split(X,y,test_size=0.25,random_state=41)\n",
    "rfr.fit(X_train,y_train)\n",
    "y_pred = rfr.predict(X_test)\n",
    "r2Score = r2_score(y_test,y_pred)\n",
    "MSE = mean_squared_error(y_test,y_pred)\n",
    "MAE = mean_absolute_error(y_test,y_pred)\n",
    "\n",
    "print(r2Score,MSE,MAE)"
   ]
  },
  {
   "cell_type": "code",
   "execution_count": 144,
   "metadata": {},
   "outputs": [
    {
     "data": {
      "text/plain": [
       "{'Model': 'Random Forest Regresssion Tech',\n",
       " 'R2': 0.908288336809204,\n",
       " 'MSE': 21.443328547979156,\n",
       " 'MAE': 3.3340231004200063,\n",
       " 'Description': 'Using Random Forest Technique, we are getting Max accuarcy at hyper-perameter : 18 with Mentioned MSE and MAE'}"
      ]
     },
     "execution_count": 144,
     "metadata": {},
     "output_type": "execute_result"
    }
   ],
   "source": [
    "# Project Summary : Random Forest algo\n",
    "project_summary[9] = {}\n",
    "project_summary[9]['Model'] = 'Random Forest Regresssion Tech'\n",
    "project_summary[9]['R2'] = r2Score\n",
    "project_summary[9]['MSE'] = MSE\n",
    "project_summary[9]['MAE'] = MAE\n",
    "project_summary[9]['Description'] = 'Using Random Forest Technique, we are getting Max accuarcy at hyper-perameter : 18 with Mentioned MSE and MAE'\n",
    "\n",
    "project_summary[9]"
   ]
  },
  {
   "cell_type": "code",
   "execution_count": 183,
   "metadata": {},
   "outputs": [
    {
     "data": {
      "text/html": [
       "<div>\n",
       "<style scoped>\n",
       "    .dataframe tbody tr th:only-of-type {\n",
       "        vertical-align: middle;\n",
       "    }\n",
       "\n",
       "    .dataframe tbody tr th {\n",
       "        vertical-align: top;\n",
       "    }\n",
       "\n",
       "    .dataframe thead th {\n",
       "        text-align: right;\n",
       "    }\n",
       "</style>\n",
       "<table border=\"1\" class=\"dataframe\">\n",
       "  <thead>\n",
       "    <tr style=\"text-align: right;\">\n",
       "      <th></th>\n",
       "      <th>Model</th>\n",
       "      <th>R2</th>\n",
       "      <th>MSE</th>\n",
       "      <th>MAE</th>\n",
       "      <th>Description</th>\n",
       "    </tr>\n",
       "  </thead>\n",
       "  <tbody>\n",
       "    <tr>\n",
       "      <th>9</th>\n",
       "      <td>Random Forest Regresssion Tech</td>\n",
       "      <td>0.908288</td>\n",
       "      <td>21.443329</td>\n",
       "      <td>3.334023</td>\n",
       "      <td>Using Random Forest Technique, we are getting ...</td>\n",
       "    </tr>\n",
       "    <tr>\n",
       "      <th>6</th>\n",
       "      <td>With Multicolinerity Veriables</td>\n",
       "      <td>0.835738</td>\n",
       "      <td>46.225736</td>\n",
       "      <td>5.135643</td>\n",
       "      <td>If we will not clear all multicolierity variab...</td>\n",
       "    </tr>\n",
       "    <tr>\n",
       "      <th>8</th>\n",
       "      <td>Decision Tree Regresssion Tech</td>\n",
       "      <td>0.825517</td>\n",
       "      <td>40.796270</td>\n",
       "      <td>4.067363</td>\n",
       "      <td>Using Decision Tree Technique, we are getting ...</td>\n",
       "    </tr>\n",
       "    <tr>\n",
       "      <th>1</th>\n",
       "      <td>Base Model 2nd LinerRegression</td>\n",
       "      <td>0.809429</td>\n",
       "      <td>55.865757</td>\n",
       "      <td>5.747405</td>\n",
       "      <td>Model performance removed Outliers</td>\n",
       "    </tr>\n",
       "    <tr>\n",
       "      <th>3</th>\n",
       "      <td>Lasso Regularization</td>\n",
       "      <td>0.808521</td>\n",
       "      <td>44.770201</td>\n",
       "      <td>44.770201</td>\n",
       "      <td>Lasso Regularization Technique, we are getting...</td>\n",
       "    </tr>\n",
       "    <tr>\n",
       "      <th>4</th>\n",
       "      <td>Ridge Regularization</td>\n",
       "      <td>0.799508</td>\n",
       "      <td>46.877456</td>\n",
       "      <td>46.877456</td>\n",
       "      <td>Ridge Regularization Technique, we are getting...</td>\n",
       "    </tr>\n",
       "    <tr>\n",
       "      <th>2</th>\n",
       "      <td>Base Model 3rd LinerRegression</td>\n",
       "      <td>0.574573</td>\n",
       "      <td>124.713345</td>\n",
       "      <td>8.947842</td>\n",
       "      <td>Model performance After complete the Features ...</td>\n",
       "    </tr>\n",
       "    <tr>\n",
       "      <th>5</th>\n",
       "      <td>Remove Multicolinerity</td>\n",
       "      <td>0.574331</td>\n",
       "      <td>119.789332</td>\n",
       "      <td>8.487110</td>\n",
       "      <td>After remove all Multicolinerity features usin...</td>\n",
       "    </tr>\n",
       "    <tr>\n",
       "      <th>7</th>\n",
       "      <td>K-nearest neighbors</td>\n",
       "      <td>0.567133</td>\n",
       "      <td>101.209668</td>\n",
       "      <td>6.888660</td>\n",
       "      <td>Using KNN we are getting Max accuarcy with Men...</td>\n",
       "    </tr>\n",
       "    <tr>\n",
       "      <th>0</th>\n",
       "      <td>Base 1st LinerRegression</td>\n",
       "      <td>0.567128</td>\n",
       "      <td>100.326621</td>\n",
       "      <td>7.773955</td>\n",
       "      <td>Model performance without remove Outliers</td>\n",
       "    </tr>\n",
       "  </tbody>\n",
       "</table>\n",
       "</div>"
      ],
      "text/plain": [
       "                            Model        R2         MSE        MAE  \\\n",
       "9  Random Forest Regresssion Tech  0.908288   21.443329   3.334023   \n",
       "6  With Multicolinerity Veriables  0.835738   46.225736   5.135643   \n",
       "8  Decision Tree Regresssion Tech  0.825517   40.796270   4.067363   \n",
       "1  Base Model 2nd LinerRegression  0.809429   55.865757   5.747405   \n",
       "3            Lasso Regularization  0.808521   44.770201  44.770201   \n",
       "4            Ridge Regularization  0.799508   46.877456  46.877456   \n",
       "2  Base Model 3rd LinerRegression  0.574573  124.713345   8.947842   \n",
       "5          Remove Multicolinerity  0.574331  119.789332   8.487110   \n",
       "7             K-nearest neighbors  0.567133  101.209668   6.888660   \n",
       "0        Base 1st LinerRegression  0.567128  100.326621   7.773955   \n",
       "\n",
       "                                         Description  \n",
       "9  Using Random Forest Technique, we are getting ...  \n",
       "6  If we will not clear all multicolierity variab...  \n",
       "8  Using Decision Tree Technique, we are getting ...  \n",
       "1                 Model performance removed Outliers  \n",
       "3  Lasso Regularization Technique, we are getting...  \n",
       "4  Ridge Regularization Technique, we are getting...  \n",
       "2  Model performance After complete the Features ...  \n",
       "5  After remove all Multicolinerity features usin...  \n",
       "7  Using KNN we are getting Max accuarcy with Men...  \n",
       "0          Model performance without remove Outliers  "
      ]
     },
     "execution_count": 183,
     "metadata": {},
     "output_type": "execute_result"
    }
   ],
   "source": [
    "Model,R2,MAE,MSE,Description = [],[],[],[],[]\n",
    "for i in range(len(project_summary)):\n",
    "    list = project_summary[i]\n",
    "    Model.append(list['Model'])\n",
    "    R2.append(list['R2'])\n",
    "    MSE.append(list['MSE'])\n",
    "    MAE.append(list['MAE'])\n",
    "    Description.append(list['Description'])\n",
    "df = pd.DataFrame()\n",
    "df['Model'] = Model\n",
    "df['R2'] = R2\n",
    "df['MSE'] = MSE\n",
    "df['MAE'] = MAE\n",
    "df['Description'] = Description\n",
    "df.sort_values('R2',ascending=False)"
   ]
  },
  {
   "cell_type": "code",
   "execution_count": 184,
   "metadata": {},
   "outputs": [
    {
     "data": {
      "text/html": [
       "<div>\n",
       "<style scoped>\n",
       "    .dataframe tbody tr th:only-of-type {\n",
       "        vertical-align: middle;\n",
       "    }\n",
       "\n",
       "    .dataframe tbody tr th {\n",
       "        vertical-align: top;\n",
       "    }\n",
       "\n",
       "    .dataframe thead th {\n",
       "        text-align: right;\n",
       "    }\n",
       "</style>\n",
       "<table border=\"1\" class=\"dataframe\">\n",
       "  <thead>\n",
       "    <tr style=\"text-align: right;\">\n",
       "      <th></th>\n",
       "      <th>Model</th>\n",
       "      <th>R2</th>\n",
       "      <th>MSE</th>\n",
       "      <th>MAE</th>\n",
       "      <th>Description</th>\n",
       "    </tr>\n",
       "  </thead>\n",
       "  <tbody>\n",
       "    <tr>\n",
       "      <th>9</th>\n",
       "      <td>Random Forest Regresssion Tech</td>\n",
       "      <td>0.908288</td>\n",
       "      <td>21.443329</td>\n",
       "      <td>3.334023</td>\n",
       "      <td>Using Random Forest Technique, we are getting ...</td>\n",
       "    </tr>\n",
       "  </tbody>\n",
       "</table>\n",
       "</div>"
      ],
      "text/plain": [
       "                            Model        R2        MSE       MAE  \\\n",
       "9  Random Forest Regresssion Tech  0.908288  21.443329  3.334023   \n",
       "\n",
       "                                         Description  \n",
       "9  Using Random Forest Technique, we are getting ...  "
      ]
     },
     "execution_count": 184,
     "metadata": {},
     "output_type": "execute_result"
    }
   ],
   "source": [
    "### Case 1st : if we want higher accuracy Model as compare to other model:\n",
    "df.sort_values('R2',ascending=False).head(1)"
   ]
  },
  {
   "cell_type": "code",
   "execution_count": 185,
   "metadata": {},
   "outputs": [
    {
     "data": {
      "text/html": [
       "<div>\n",
       "<style scoped>\n",
       "    .dataframe tbody tr th:only-of-type {\n",
       "        vertical-align: middle;\n",
       "    }\n",
       "\n",
       "    .dataframe tbody tr th {\n",
       "        vertical-align: top;\n",
       "    }\n",
       "\n",
       "    .dataframe thead th {\n",
       "        text-align: right;\n",
       "    }\n",
       "</style>\n",
       "<table border=\"1\" class=\"dataframe\">\n",
       "  <thead>\n",
       "    <tr style=\"text-align: right;\">\n",
       "      <th></th>\n",
       "      <th>Model</th>\n",
       "      <th>R2</th>\n",
       "      <th>MSE</th>\n",
       "      <th>MAE</th>\n",
       "      <th>Description</th>\n",
       "    </tr>\n",
       "  </thead>\n",
       "  <tbody>\n",
       "    <tr>\n",
       "      <th>9</th>\n",
       "      <td>Random Forest Regresssion Tech</td>\n",
       "      <td>0.908288</td>\n",
       "      <td>21.443329</td>\n",
       "      <td>3.334023</td>\n",
       "      <td>Using Random Forest Technique, we are getting ...</td>\n",
       "    </tr>\n",
       "  </tbody>\n",
       "</table>\n",
       "</div>"
      ],
      "text/plain": [
       "                            Model        R2        MSE       MAE  \\\n",
       "9  Random Forest Regresssion Tech  0.908288  21.443329  3.334023   \n",
       "\n",
       "                                         Description  \n",
       "9  Using Random Forest Technique, we are getting ...  "
      ]
     },
     "execution_count": 185,
     "metadata": {},
     "output_type": "execute_result"
    }
   ],
   "source": [
    "### Case 2nd : if we want higher accuracy and Lower Means Squared Error as compare to other model:\n",
    "df.sort_values(['R2','MSE'],ascending=False).head(1)"
   ]
  },
  {
   "cell_type": "code",
   "execution_count": null,
   "metadata": {},
   "outputs": [],
   "source": []
  }
 ],
 "metadata": {
  "kernelspec": {
   "display_name": "Python 3",
   "language": "python",
   "name": "python3"
  },
  "language_info": {
   "codemirror_mode": {
    "name": "ipython",
    "version": 3
   },
   "file_extension": ".py",
   "mimetype": "text/x-python",
   "name": "python",
   "nbconvert_exporter": "python",
   "pygments_lexer": "ipython3",
   "version": "3.8.5"
  }
 },
 "nbformat": 4,
 "nbformat_minor": 4
}
